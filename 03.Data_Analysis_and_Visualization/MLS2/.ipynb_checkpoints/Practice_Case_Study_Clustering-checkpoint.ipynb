{
 "cells": [
  {
   "cell_type": "markdown",
   "metadata": {
    "id": "IqkGV5pXRISd"
   },
   "source": [
    "# **Socio-economic Factors for Geographic Clustering**\n",
    "\n",
    "-----------------------------------------\n",
    "## **Context**\n",
    "-----------------------------------------\n",
    "\n",
    "The study of socio-economic factors is foundational to understanding and shaping the future of societies and hence of extreme interest to various government and non-government institutions. While GDP is one of the important measures used in one of the popular economic vernacular, it is not the only measure of the growth and the state of an economy. This case study aims to deep dive into one such dataset that contains various socio-economic attributes for countries around the world.\n",
    "\n",
    "-----------------------------------------\n",
    "## **Objective**\n",
    "-----------------------------------------\n",
    "\n",
    "To identify if there exist various clusters of countries that are more similar to each other than others, in terms of certain socio-economic factors.\n",
    "\n",
    "------------------------\n",
    "## **Data Dictionary**\n",
    "-------------------------\n",
    "The data has the following attributes:\n",
    "- country: Name of the country\n",
    "- child_mort: Death of children under 5 years of age per 1000 live births\n",
    "- exports - Exports in % of the GDP per capita\n",
    "- health - The total spend on health given as % of GDP\n",
    "- imports - The value of imports given as % of GDP per capita\n",
    "- income - The net income per person\n",
    "- inflation - Inflation rate %\n",
    "- life_expec - Average life expectancy in years\n",
    "- total_fer - The fertility rate - Average children per woman in the country\n",
    "- gdpp - GDP per capita\n",
    "\n",
    "In the dataset, we will not do clustering on the GDP. We will rather try to understand the variation of other factors with GDP across the groups that we get."
   ]
  },
  {
   "cell_type": "markdown",
   "metadata": {
    "id": "5Fxb-LZvR_ne"
   },
   "source": [
    "## **Importing the libraries and overview of the dataset**"
   ]
  },
  {
   "cell_type": "markdown",
   "metadata": {
    "id": "DASnyYoDO632"
   },
   "source": [
    "**Note:** Please make sure you have installed the sklearn_extra library before running the below cell. If you have not installed the library, please run the below code to install the library:\n",
    "\n",
    "!pip install scikit-learn-extra"
   ]
  },
  {
   "cell_type": "code",
   "execution_count": 1,
   "metadata": {
    "colab": {
     "base_uri": "https://localhost:8080/"
    },
    "id": "Q3mZ34PxPD33",
    "outputId": "a623f3f9-3914-4b19-c683-264d0de6ddc7"
   },
   "outputs": [
    {
     "name": "stdout",
     "output_type": "stream",
     "text": [
      "Requirement already satisfied: scikit-learn-extra in /Applications/anaconda3/lib/python3.11/site-packages (0.3.0)\n",
      "Requirement already satisfied: numpy>=1.13.3 in /Applications/anaconda3/lib/python3.11/site-packages (from scikit-learn-extra) (1.24.3)\n",
      "Requirement already satisfied: scipy>=0.19.1 in /Applications/anaconda3/lib/python3.11/site-packages (from scikit-learn-extra) (1.11.1)\n",
      "Requirement already satisfied: scikit-learn>=0.23.0 in /Applications/anaconda3/lib/python3.11/site-packages (from scikit-learn-extra) (1.3.0)\n",
      "Requirement already satisfied: joblib>=1.1.1 in /Applications/anaconda3/lib/python3.11/site-packages (from scikit-learn>=0.23.0->scikit-learn-extra) (1.2.0)\n",
      "Requirement already satisfied: threadpoolctl>=2.0.0 in /Applications/anaconda3/lib/python3.11/site-packages (from scikit-learn>=0.23.0->scikit-learn-extra) (2.2.0)\n"
     ]
    }
   ],
   "source": [
    "!pip3 install scikit-learn-extra"
   ]
  },
  {
   "cell_type": "code",
   "execution_count": 2,
   "metadata": {
    "id": "hz5mbOa4lfvt"
   },
   "outputs": [],
   "source": [
    "import pandas as pd\n",
    "\n",
    "import numpy as np\n",
    "\n",
    "import matplotlib.pylab as plt\n",
    "\n",
    "import seaborn as sns\n",
    "\n",
    "# To scale the data using z-score \n",
    "from sklearn.preprocessing import StandardScaler\n",
    "\n",
    "# Importing clustering algorithms\n",
    "from sklearn.cluster import KMeans\n",
    "\n",
    "from sklearn.mixture import GaussianMixture\n",
    "\n",
    "from sklearn_extra.cluster import KMedoids\n",
    "\n",
    "from sklearn.cluster import AgglomerativeClustering\n",
    "\n",
    "from sklearn.cluster import DBSCAN\n",
    "\n",
    "# Silhouette score\n",
    "from sklearn.metrics import silhouette_score\n",
    "\n",
    "import warnings\n",
    "warnings.filterwarnings(\"ignore\")"
   ]
  },
  {
   "cell_type": "markdown",
   "metadata": {
    "id": "3LI0fZb5lfvu"
   },
   "source": [
    "### **Loading the data**"
   ]
  },
  {
   "cell_type": "code",
   "execution_count": 3,
   "metadata": {
    "colab": {
     "base_uri": "https://localhost:8080/",
     "height": 206
    },
    "id": "9ne1HPNyRGAW",
    "outputId": "bb43168b-7de6-4558-8206-701177d92793"
   },
   "outputs": [
    {
     "data": {
      "text/html": [
       "<div>\n",
       "<style scoped>\n",
       "    .dataframe tbody tr th:only-of-type {\n",
       "        vertical-align: middle;\n",
       "    }\n",
       "\n",
       "    .dataframe tbody tr th {\n",
       "        vertical-align: top;\n",
       "    }\n",
       "\n",
       "    .dataframe thead th {\n",
       "        text-align: right;\n",
       "    }\n",
       "</style>\n",
       "<table border=\"1\" class=\"dataframe\">\n",
       "  <thead>\n",
       "    <tr style=\"text-align: right;\">\n",
       "      <th></th>\n",
       "      <th>country</th>\n",
       "      <th>child_mort</th>\n",
       "      <th>exports</th>\n",
       "      <th>health</th>\n",
       "      <th>imports</th>\n",
       "      <th>income</th>\n",
       "      <th>inflation</th>\n",
       "      <th>life_expec</th>\n",
       "      <th>total_fer</th>\n",
       "      <th>gdpp</th>\n",
       "    </tr>\n",
       "  </thead>\n",
       "  <tbody>\n",
       "    <tr>\n",
       "      <th>0</th>\n",
       "      <td>Afghanistan</td>\n",
       "      <td>90.2</td>\n",
       "      <td>10.0</td>\n",
       "      <td>7.58</td>\n",
       "      <td>44.9</td>\n",
       "      <td>1610</td>\n",
       "      <td>9.44</td>\n",
       "      <td>56.2</td>\n",
       "      <td>5.82</td>\n",
       "      <td>553</td>\n",
       "    </tr>\n",
       "    <tr>\n",
       "      <th>1</th>\n",
       "      <td>Albania</td>\n",
       "      <td>16.6</td>\n",
       "      <td>28.0</td>\n",
       "      <td>6.55</td>\n",
       "      <td>48.6</td>\n",
       "      <td>9930</td>\n",
       "      <td>4.49</td>\n",
       "      <td>76.3</td>\n",
       "      <td>1.65</td>\n",
       "      <td>4090</td>\n",
       "    </tr>\n",
       "    <tr>\n",
       "      <th>2</th>\n",
       "      <td>Algeria</td>\n",
       "      <td>27.3</td>\n",
       "      <td>38.4</td>\n",
       "      <td>4.17</td>\n",
       "      <td>31.4</td>\n",
       "      <td>12900</td>\n",
       "      <td>16.10</td>\n",
       "      <td>76.5</td>\n",
       "      <td>2.89</td>\n",
       "      <td>4460</td>\n",
       "    </tr>\n",
       "    <tr>\n",
       "      <th>3</th>\n",
       "      <td>Angola</td>\n",
       "      <td>119.0</td>\n",
       "      <td>62.3</td>\n",
       "      <td>2.85</td>\n",
       "      <td>42.9</td>\n",
       "      <td>5900</td>\n",
       "      <td>22.40</td>\n",
       "      <td>60.1</td>\n",
       "      <td>6.16</td>\n",
       "      <td>3530</td>\n",
       "    </tr>\n",
       "    <tr>\n",
       "      <th>4</th>\n",
       "      <td>Antigua and Barbuda</td>\n",
       "      <td>10.3</td>\n",
       "      <td>45.5</td>\n",
       "      <td>6.03</td>\n",
       "      <td>58.9</td>\n",
       "      <td>19100</td>\n",
       "      <td>1.44</td>\n",
       "      <td>76.8</td>\n",
       "      <td>2.13</td>\n",
       "      <td>12200</td>\n",
       "    </tr>\n",
       "  </tbody>\n",
       "</table>\n",
       "</div>"
      ],
      "text/plain": [
       "               country  child_mort  exports  health  imports  income  \\\n",
       "0          Afghanistan        90.2     10.0    7.58     44.9    1610   \n",
       "1              Albania        16.6     28.0    6.55     48.6    9930   \n",
       "2              Algeria        27.3     38.4    4.17     31.4   12900   \n",
       "3               Angola       119.0     62.3    2.85     42.9    5900   \n",
       "4  Antigua and Barbuda        10.3     45.5    6.03     58.9   19100   \n",
       "\n",
       "   inflation  life_expec  total_fer   gdpp  \n",
       "0       9.44        56.2       5.82    553  \n",
       "1       4.49        76.3       1.65   4090  \n",
       "2      16.10        76.5       2.89   4460  \n",
       "3      22.40        60.1       6.16   3530  \n",
       "4       1.44        76.8       2.13  12200  "
      ]
     },
     "execution_count": 3,
     "metadata": {},
     "output_type": "execute_result"
    }
   ],
   "source": [
    "data = pd.read_csv(\"Country-data.csv\")\n",
    "\n",
    "data.head()"
   ]
  },
  {
   "cell_type": "markdown",
   "metadata": {
    "id": "Cs6ozDQhlfvw"
   },
   "source": [
    "### **Checking the info of the data**"
   ]
  },
  {
   "cell_type": "code",
   "execution_count": 4,
   "metadata": {
    "colab": {
     "base_uri": "https://localhost:8080/"
    },
    "id": "7YurBSmKtgoA",
    "outputId": "819159ef-29f6-47e7-e4a0-d2b3faaf11e1"
   },
   "outputs": [
    {
     "name": "stdout",
     "output_type": "stream",
     "text": [
      "<class 'pandas.core.frame.DataFrame'>\n",
      "RangeIndex: 167 entries, 0 to 166\n",
      "Data columns (total 10 columns):\n",
      " #   Column      Non-Null Count  Dtype  \n",
      "---  ------      --------------  -----  \n",
      " 0   country     167 non-null    object \n",
      " 1   child_mort  167 non-null    float64\n",
      " 2   exports     167 non-null    float64\n",
      " 3   health      167 non-null    float64\n",
      " 4   imports     167 non-null    float64\n",
      " 5   income      167 non-null    int64  \n",
      " 6   inflation   167 non-null    float64\n",
      " 7   life_expec  167 non-null    float64\n",
      " 8   total_fer   167 non-null    float64\n",
      " 9   gdpp        167 non-null    int64  \n",
      "dtypes: float64(7), int64(2), object(1)\n",
      "memory usage: 13.2+ KB\n"
     ]
    }
   ],
   "source": [
    "data.info()"
   ]
  },
  {
   "cell_type": "markdown",
   "metadata": {
    "id": "e6jCsXwJYy5x"
   },
   "source": [
    "**Observations:**\n",
    " \n",
    " - There are **167 observations and 10 columns** in the data.\n",
    " - All columns have 167 non-null values, i.e., there are **no missing values**.\n",
    " - All the **columns except the country name are numerical**.\n",
    " - Everything looks great, let's move ahead to check for duplicates."
   ]
  },
  {
   "cell_type": "markdown",
   "metadata": {
    "id": "t2k0neVTlfvx"
   },
   "source": [
    "### **Check duplicate entries**"
   ]
  },
  {
   "cell_type": "code",
   "execution_count": 5,
   "metadata": {
    "colab": {
     "base_uri": "https://localhost:8080/",
     "height": 49
    },
    "id": "YhCzI79Ylfvx",
    "outputId": "368e3c31-7f50-4e29-f116-f6e412784b0c"
   },
   "outputs": [
    {
     "data": {
      "text/html": [
       "<div>\n",
       "<style scoped>\n",
       "    .dataframe tbody tr th:only-of-type {\n",
       "        vertical-align: middle;\n",
       "    }\n",
       "\n",
       "    .dataframe tbody tr th {\n",
       "        vertical-align: top;\n",
       "    }\n",
       "\n",
       "    .dataframe thead th {\n",
       "        text-align: right;\n",
       "    }\n",
       "</style>\n",
       "<table border=\"1\" class=\"dataframe\">\n",
       "  <thead>\n",
       "    <tr style=\"text-align: right;\">\n",
       "      <th></th>\n",
       "      <th>country</th>\n",
       "      <th>child_mort</th>\n",
       "      <th>exports</th>\n",
       "      <th>health</th>\n",
       "      <th>imports</th>\n",
       "      <th>income</th>\n",
       "      <th>inflation</th>\n",
       "      <th>life_expec</th>\n",
       "      <th>total_fer</th>\n",
       "      <th>gdpp</th>\n",
       "    </tr>\n",
       "  </thead>\n",
       "  <tbody>\n",
       "  </tbody>\n",
       "</table>\n",
       "</div>"
      ],
      "text/plain": [
       "Empty DataFrame\n",
       "Columns: [country, child_mort, exports, health, imports, income, inflation, life_expec, total_fer, gdpp]\n",
       "Index: []"
      ]
     },
     "execution_count": 5,
     "metadata": {},
     "output_type": "execute_result"
    }
   ],
   "source": [
    "data[data.duplicated()]"
   ]
  },
  {
   "cell_type": "markdown",
   "metadata": {
    "id": "FRuEXmMBlfvx"
   },
   "source": [
    "- There are **no duplicate rows** in the data. That's good. "
   ]
  },
  {
   "cell_type": "markdown",
   "metadata": {
    "id": "HwmEnP-qlfvx"
   },
   "source": [
    "## **Exploratory Data Analysis**"
   ]
  },
  {
   "cell_type": "markdown",
   "metadata": {
    "id": "ZG4l7AH0lfvy"
   },
   "source": [
    "### **Summary Statistics**"
   ]
  },
  {
   "cell_type": "code",
   "execution_count": 6,
   "metadata": {
    "colab": {
     "base_uri": "https://localhost:8080/",
     "height": 332
    },
    "id": "Hy-qXl2R9YqY",
    "outputId": "ed75a71a-de11-4cbc-ea58-1ce3eca1940e"
   },
   "outputs": [
    {
     "data": {
      "text/html": [
       "<div>\n",
       "<style scoped>\n",
       "    .dataframe tbody tr th:only-of-type {\n",
       "        vertical-align: middle;\n",
       "    }\n",
       "\n",
       "    .dataframe tbody tr th {\n",
       "        vertical-align: top;\n",
       "    }\n",
       "\n",
       "    .dataframe thead th {\n",
       "        text-align: right;\n",
       "    }\n",
       "</style>\n",
       "<table border=\"1\" class=\"dataframe\">\n",
       "  <thead>\n",
       "    <tr style=\"text-align: right;\">\n",
       "      <th></th>\n",
       "      <th>count</th>\n",
       "      <th>mean</th>\n",
       "      <th>std</th>\n",
       "      <th>min</th>\n",
       "      <th>25%</th>\n",
       "      <th>50%</th>\n",
       "      <th>75%</th>\n",
       "      <th>max</th>\n",
       "    </tr>\n",
       "  </thead>\n",
       "  <tbody>\n",
       "    <tr>\n",
       "      <th>child_mort</th>\n",
       "      <td>167.0</td>\n",
       "      <td>38.270060</td>\n",
       "      <td>40.328931</td>\n",
       "      <td>2.6000</td>\n",
       "      <td>8.250</td>\n",
       "      <td>19.30</td>\n",
       "      <td>62.10</td>\n",
       "      <td>208.00</td>\n",
       "    </tr>\n",
       "    <tr>\n",
       "      <th>exports</th>\n",
       "      <td>167.0</td>\n",
       "      <td>41.108976</td>\n",
       "      <td>27.412010</td>\n",
       "      <td>0.1090</td>\n",
       "      <td>23.800</td>\n",
       "      <td>35.00</td>\n",
       "      <td>51.35</td>\n",
       "      <td>200.00</td>\n",
       "    </tr>\n",
       "    <tr>\n",
       "      <th>health</th>\n",
       "      <td>167.0</td>\n",
       "      <td>6.815689</td>\n",
       "      <td>2.746837</td>\n",
       "      <td>1.8100</td>\n",
       "      <td>4.920</td>\n",
       "      <td>6.32</td>\n",
       "      <td>8.60</td>\n",
       "      <td>17.90</td>\n",
       "    </tr>\n",
       "    <tr>\n",
       "      <th>imports</th>\n",
       "      <td>167.0</td>\n",
       "      <td>46.890215</td>\n",
       "      <td>24.209589</td>\n",
       "      <td>0.0659</td>\n",
       "      <td>30.200</td>\n",
       "      <td>43.30</td>\n",
       "      <td>58.75</td>\n",
       "      <td>174.00</td>\n",
       "    </tr>\n",
       "    <tr>\n",
       "      <th>income</th>\n",
       "      <td>167.0</td>\n",
       "      <td>17144.688623</td>\n",
       "      <td>19278.067698</td>\n",
       "      <td>609.0000</td>\n",
       "      <td>3355.000</td>\n",
       "      <td>9960.00</td>\n",
       "      <td>22800.00</td>\n",
       "      <td>125000.00</td>\n",
       "    </tr>\n",
       "    <tr>\n",
       "      <th>inflation</th>\n",
       "      <td>167.0</td>\n",
       "      <td>7.781832</td>\n",
       "      <td>10.570704</td>\n",
       "      <td>-4.2100</td>\n",
       "      <td>1.810</td>\n",
       "      <td>5.39</td>\n",
       "      <td>10.75</td>\n",
       "      <td>104.00</td>\n",
       "    </tr>\n",
       "    <tr>\n",
       "      <th>life_expec</th>\n",
       "      <td>167.0</td>\n",
       "      <td>70.555689</td>\n",
       "      <td>8.893172</td>\n",
       "      <td>32.1000</td>\n",
       "      <td>65.300</td>\n",
       "      <td>73.10</td>\n",
       "      <td>76.80</td>\n",
       "      <td>82.80</td>\n",
       "    </tr>\n",
       "    <tr>\n",
       "      <th>total_fer</th>\n",
       "      <td>167.0</td>\n",
       "      <td>2.947964</td>\n",
       "      <td>1.513848</td>\n",
       "      <td>1.1500</td>\n",
       "      <td>1.795</td>\n",
       "      <td>2.41</td>\n",
       "      <td>3.88</td>\n",
       "      <td>7.49</td>\n",
       "    </tr>\n",
       "    <tr>\n",
       "      <th>gdpp</th>\n",
       "      <td>167.0</td>\n",
       "      <td>12964.155689</td>\n",
       "      <td>18328.704809</td>\n",
       "      <td>231.0000</td>\n",
       "      <td>1330.000</td>\n",
       "      <td>4660.00</td>\n",
       "      <td>14050.00</td>\n",
       "      <td>105000.00</td>\n",
       "    </tr>\n",
       "  </tbody>\n",
       "</table>\n",
       "</div>"
      ],
      "text/plain": [
       "            count          mean           std       min       25%      50%  \\\n",
       "child_mort  167.0     38.270060     40.328931    2.6000     8.250    19.30   \n",
       "exports     167.0     41.108976     27.412010    0.1090    23.800    35.00   \n",
       "health      167.0      6.815689      2.746837    1.8100     4.920     6.32   \n",
       "imports     167.0     46.890215     24.209589    0.0659    30.200    43.30   \n",
       "income      167.0  17144.688623  19278.067698  609.0000  3355.000  9960.00   \n",
       "inflation   167.0      7.781832     10.570704   -4.2100     1.810     5.39   \n",
       "life_expec  167.0     70.555689      8.893172   32.1000    65.300    73.10   \n",
       "total_fer   167.0      2.947964      1.513848    1.1500     1.795     2.41   \n",
       "gdpp        167.0  12964.155689  18328.704809  231.0000  1330.000  4660.00   \n",
       "\n",
       "                 75%        max  \n",
       "child_mort     62.10     208.00  \n",
       "exports        51.35     200.00  \n",
       "health          8.60      17.90  \n",
       "imports        58.75     174.00  \n",
       "income      22800.00  125000.00  \n",
       "inflation      10.75     104.00  \n",
       "life_expec     76.80      82.80  \n",
       "total_fer       3.88       7.49  \n",
       "gdpp        14050.00  105000.00  "
      ]
     },
     "execution_count": 6,
     "metadata": {},
     "output_type": "execute_result"
    }
   ],
   "source": [
    "data.describe().T"
   ]
  },
  {
   "cell_type": "markdown",
   "metadata": {
    "id": "FOa6-ID-lfvy"
   },
   "source": [
    "**Observations:**\n",
    "\n",
    "- The child mortality rate has a high range from 2.6 to 208 deaths per 1000 live births. The average child mortality rate is approx 38 deaths per 1000 live births.\n",
    "- Similarly, the exports and imports have a high range of values. The maximum values for exports and imports are 200% and 174% of GDP respectively. This can happen if a country's export or import industry exceeds its domestic economy.\n",
    "- The total spend on health is very less in comparison to exports and imports for the majority of countries. The average spending on health is approx 6.8% of GDP.\n",
    "- The average life expectancy is approx 70 years but the minimum value is just 32 years.\n",
    "- Other variables like gdpp, inflation, and income also show a high variability which can be expected as they can be very different for different countries.\n",
    "- Overall, % expenditure on health and average life expectancy seem to have a lesser standard deviation, which reflects less variability across countries. All other variables seem to have a very high spread across countries. These are the variables that might help us identify the clusters if they exist."
   ]
  },
  {
   "cell_type": "markdown",
   "metadata": {
    "id": "eqdrlsWOlfvy"
   },
   "source": [
    "### **Let's check the distribution and outliers for each column in the data**"
   ]
  },
  {
   "cell_type": "code",
   "execution_count": 7,
   "metadata": {
    "colab": {
     "base_uri": "https://localhost:8080/",
     "height": 1000
    },
    "id": "iugEW_COlfvy",
    "outputId": "86351509-6f26-46f3-dbec-0425ad3b4fad",
    "scrolled": false
   },
   "outputs": [
    {
     "name": "stdout",
     "output_type": "stream",
     "text": [
      "child_mort\n",
      "Skew : 1.45\n"
     ]
    },
    {
     "data": {
      "image/png": "[encoded data removed]",
      "text/plain": [
       "<Figure size 1500x400 with 2 Axes>"
      ]
     },
     "metadata": {},
     "output_type": "display_data"
    },
    {
     "name": "stdout",
     "output_type": "stream",
     "text": [
      "exports\n",
      "Skew : 2.45\n"
     ]
    },
    {
     "data": {
      "image/png": "[encoded data removed]",
      "text/plain": [
       "<Figure size 1500x400 with 2 Axes>"
      ]
     },
     "metadata": {},
     "output_type": "display_data"
    },
    {
     "name": "stdout",
     "output_type": "stream",
     "text": [
      "health\n",
      "Skew : 0.71\n"
     ]
    },
    {
     "data": {
      "image/png": "[encoded data removed]",
      "text/plain": [
       "<Figure size 1500x400 with 2 Axes>"
      ]
     },
     "metadata": {},
     "output_type": "display_data"
    },
    {
     "name": "stdout",
     "output_type": "stream",
     "text": [
      "imports\n",
      "Skew : 1.91\n"
     ]
    },
    {
     "data": {
      "image/png": "[encoded data removed]",
      "text/plain": [
       "<Figure size 1500x400 with 2 Axes>"
      ]
     },
     "metadata": {},
     "output_type": "display_data"
    },
    {
     "name": "stdout",
     "output_type": "stream",
     "text": [
      "income\n",
      "Skew : 2.23\n"
     ]
    },
    {
     "data": {
      "image/png": "[encoded data removed]",
      "text/plain": [
       "<Figure size 1500x400 with 2 Axes>"
      ]
     },
     "metadata": {},
     "output_type": "display_data"
    },
    {
     "name": "stdout",
     "output_type": "stream",
     "text": [
      "inflation\n",
      "Skew : 5.15\n"
     ]
    },
    {
     "data": {
      "image/png": "[encoded data removed]",
      "text/plain": [
       "<Figure size 1500x400 with 2 Axes>"
      ]
     },
     "metadata": {},
     "output_type": "display_data"
    },
    {
     "name": "stdout",
     "output_type": "stream",
     "text": [
      "life_expec\n",
      "Skew : -0.97\n"
     ]
    },
    {
     "data": {
      "image/png": "[encoded data removed]",
      "text/plain": [
       "<Figure size 1500x400 with 2 Axes>"
      ]
     },
     "metadata": {},
     "output_type": "display_data"
    },
    {
     "name": "stdout",
     "output_type": "stream",
     "text": [
      "total_fer\n",
      "Skew : 0.97\n"
     ]
    },
    {
     "data": {
      "image/png": "[encoded data removed]",
      "text/plain": [
       "<Figure size 1500x400 with 2 Axes>"
      ]
     },
     "metadata": {},
     "output_type": "display_data"
    },
    {
     "name": "stdout",
     "output_type": "stream",
     "text": [
      "gdpp\n",
      "Skew : 2.22\n"
     ]
    },
    {
     "data": {
      "image/png": "[encoded data removed]",
      "text/plain": [
       "<Figure size 1500x400 with 2 Axes>"
      ]
     },
     "metadata": {},
     "output_type": "display_data"
    }
   ],
   "source": [
    "for col in data.columns[1:]:\n",
    "    print(col)\n",
    "    \n",
    "    print('Skew :', round(data[col].skew(), 2))\n",
    "    \n",
    "    plt.figure(figsize = (15, 4))\n",
    "    \n",
    "    plt.subplot(1, 2, 1)\n",
    "    \n",
    "    data[col].hist(bins = 10, grid = False)\n",
    "    \n",
    "    plt.ylabel('count')\n",
    "    \n",
    "    plt.subplot(1, 2, 2)\n",
    "    \n",
    "    sns.boxplot(x = data[col])\n",
    "    \n",
    "    plt.show()"
   ]
  },
  {
   "cell_type": "markdown",
   "metadata": {
    "id": "GMbDYwQ3lfvz"
   },
   "source": [
    "**Observations:**\n",
    "\n",
    "- As observed earlier, most of the variables have skewed distributions.\n",
    "- The distribution for the % expenditure on health is relatively less skewed with fewer outliers.\n",
    "- The life expectancy is the only variable which is skewed to the left meaning most of the countries have already been successful in achieving high life expectancy.\n",
    "- The distribution for all other variables is highly skewed to the right. All these variables have some outliers to the right end."
   ]
  },
  {
   "cell_type": "markdown",
   "metadata": {
    "id": "J2KJledAK2lu"
   },
   "source": [
    "### **Let's check the correlation among the variables**"
   ]
  },
  {
   "cell_type": "code",
   "execution_count": 8,
   "metadata": {
    "colab": {
     "base_uri": "https://localhost:8080/",
     "height": 836
    },
    "id": "u9WlFCbIENcr",
    "outputId": "0532adf5-f9ac-487e-d23b-6600812b734c"
   },
   "outputs": [
    {
     "data": {
      "image/png": "[encoded data removed]",
      "text/plain": [
       "<Figure size 1000x1000 with 2 Axes>"
      ]
     },
     "metadata": {},
     "output_type": "display_data"
    }
   ],
   "source": [
    "data_new1 = data.drop(columns = [\"country\"])\n",
    "\n",
    "plt.figure(figsize  = (10, 10))\n",
    "\n",
    "sns.heatmap(data_new1.corr(), annot = True, cmap = \"YlGnBu\")\n",
    "\n",
    "plt.show()"
   ]
  },
  {
   "cell_type": "markdown",
   "metadata": {
    "id": "w7X5k0OFZYxD"
   },
   "source": [
    "**Observations:**\n",
    "\n",
    "- There is a strong positive correlation between gdpp and income. This makes sense. \n",
    "- The life expectancy is positively correlated with gdpp. This indicates that people live longer in richer countries. \n",
    "- There is a strong negative correlation between life expectancy and child mortality. This is understandable.\n",
    "- The child mortality is also seen to have a strong positive correlation with the fertility rate."
   ]
  },
  {
   "cell_type": "markdown",
   "metadata": {
    "id": "TOHYHdrwSi21"
   },
   "source": [
    "## **Scaling the data**"
   ]
  },
  {
   "cell_type": "markdown",
   "metadata": {
    "id": "DVeXml96lEer"
   },
   "source": [
    "- Clustering algorithms are distance-based algorithms, and all distance-based algorithms are affected by the scale of the variables. Therefore, we will scale the data before applying clustering.\n",
    "- We will drop the variables `'country'` variable because it is unique for each country and would not add value to clustering. \n",
    "- We will also drop the `'gdpp'` variable for now, because we want to see if we can identify clusters of countries without relying on GDP and see later if these clusters correspond to an average GDP value for the countries in each cluster.  "
   ]
  },
  {
   "cell_type": "code",
   "execution_count": 9,
   "metadata": {
    "id": "U2x8-0fAlfv0"
   },
   "outputs": [],
   "source": [
    "data_new = data.drop(columns = [\"country\", \"gdpp\"])"
   ]
  },
  {
   "cell_type": "code",
   "execution_count": 10,
   "metadata": {
    "colab": {
     "base_uri": "https://localhost:8080/",
     "height": 206
    },
    "id": "QJZO4RpPlfv0",
    "outputId": "705d48ef-8dc9-47dc-c541-031e3f733bc5"
   },
   "outputs": [
    {
     "data": {
      "text/html": [
       "<div>\n",
       "<style scoped>\n",
       "    .dataframe tbody tr th:only-of-type {\n",
       "        vertical-align: middle;\n",
       "    }\n",
       "\n",
       "    .dataframe tbody tr th {\n",
       "        vertical-align: top;\n",
       "    }\n",
       "\n",
       "    .dataframe thead th {\n",
       "        text-align: right;\n",
       "    }\n",
       "</style>\n",
       "<table border=\"1\" class=\"dataframe\">\n",
       "  <thead>\n",
       "    <tr style=\"text-align: right;\">\n",
       "      <th></th>\n",
       "      <th>count</th>\n",
       "      <th>mean</th>\n",
       "      <th>std</th>\n",
       "      <th>min</th>\n",
       "      <th>25%</th>\n",
       "      <th>50%</th>\n",
       "      <th>75%</th>\n",
       "      <th>max</th>\n",
       "    </tr>\n",
       "  </thead>\n",
       "  <tbody>\n",
       "    <tr>\n",
       "      <th>child_mort</th>\n",
       "      <td>167.0</td>\n",
       "      <td>-3.722904e-17</td>\n",
       "      <td>1.003008</td>\n",
       "      <td>-0.887138</td>\n",
       "      <td>-0.746619</td>\n",
       "      <td>-0.471798</td>\n",
       "      <td>0.592667</td>\n",
       "      <td>4.221297</td>\n",
       "    </tr>\n",
       "    <tr>\n",
       "      <th>exports</th>\n",
       "      <td>167.0</td>\n",
       "      <td>2.127373e-16</td>\n",
       "      <td>1.003008</td>\n",
       "      <td>-1.500192</td>\n",
       "      <td>-0.633337</td>\n",
       "      <td>-0.223528</td>\n",
       "      <td>0.374720</td>\n",
       "      <td>5.813835</td>\n",
       "    </tr>\n",
       "    <tr>\n",
       "      <th>health</th>\n",
       "      <td>167.0</td>\n",
       "      <td>5.504579e-16</td>\n",
       "      <td>1.003008</td>\n",
       "      <td>-1.827827</td>\n",
       "      <td>-0.692211</td>\n",
       "      <td>-0.181001</td>\n",
       "      <td>0.651541</td>\n",
       "      <td>4.047436</td>\n",
       "    </tr>\n",
       "    <tr>\n",
       "      <th>imports</th>\n",
       "      <td>167.0</td>\n",
       "      <td>2.765585e-16</td>\n",
       "      <td>1.003008</td>\n",
       "      <td>-1.939940</td>\n",
       "      <td>-0.691479</td>\n",
       "      <td>-0.148743</td>\n",
       "      <td>0.491353</td>\n",
       "      <td>5.266181</td>\n",
       "    </tr>\n",
       "    <tr>\n",
       "      <th>income</th>\n",
       "      <td>167.0</td>\n",
       "      <td>-7.977650e-17</td>\n",
       "      <td>1.003008</td>\n",
       "      <td>-0.860326</td>\n",
       "      <td>-0.717456</td>\n",
       "      <td>-0.373808</td>\n",
       "      <td>0.294237</td>\n",
       "      <td>5.611542</td>\n",
       "    </tr>\n",
       "    <tr>\n",
       "      <th>inflation</th>\n",
       "      <td>167.0</td>\n",
       "      <td>-1.063687e-17</td>\n",
       "      <td>1.003008</td>\n",
       "      <td>-1.137852</td>\n",
       "      <td>-0.566641</td>\n",
       "      <td>-0.226950</td>\n",
       "      <td>0.281636</td>\n",
       "      <td>9.129718</td>\n",
       "    </tr>\n",
       "    <tr>\n",
       "      <th>life_expec</th>\n",
       "      <td>167.0</td>\n",
       "      <td>3.696311e-16</td>\n",
       "      <td>1.003008</td>\n",
       "      <td>-4.337186</td>\n",
       "      <td>-0.592758</td>\n",
       "      <td>0.286958</td>\n",
       "      <td>0.704258</td>\n",
       "      <td>1.380962</td>\n",
       "    </tr>\n",
       "    <tr>\n",
       "      <th>total_fer</th>\n",
       "      <td>167.0</td>\n",
       "      <td>3.044803e-16</td>\n",
       "      <td>1.003008</td>\n",
       "      <td>-1.191250</td>\n",
       "      <td>-0.763902</td>\n",
       "      <td>-0.356431</td>\n",
       "      <td>0.617525</td>\n",
       "      <td>3.009349</td>\n",
       "    </tr>\n",
       "  </tbody>\n",
       "</table>\n",
       "</div>"
      ],
      "text/plain": [
       "            count          mean       std       min       25%       50%  \\\n",
       "child_mort  167.0 -3.722904e-17  1.003008 -0.887138 -0.746619 -0.471798   \n",
       "exports     167.0  2.127373e-16  1.003008 -1.500192 -0.633337 -0.223528   \n",
       "health      167.0  5.504579e-16  1.003008 -1.827827 -0.692211 -0.181001   \n",
       "imports     167.0  2.765585e-16  1.003008 -1.939940 -0.691479 -0.148743   \n",
       "income      167.0 -7.977650e-17  1.003008 -0.860326 -0.717456 -0.373808   \n",
       "inflation   167.0 -1.063687e-17  1.003008 -1.137852 -0.566641 -0.226950   \n",
       "life_expec  167.0  3.696311e-16  1.003008 -4.337186 -0.592758  0.286958   \n",
       "total_fer   167.0  3.044803e-16  1.003008 -1.191250 -0.763902 -0.356431   \n",
       "\n",
       "                 75%       max  \n",
       "child_mort  0.592667  4.221297  \n",
       "exports     0.374720  5.813835  \n",
       "health      0.651541  4.047436  \n",
       "imports     0.491353  5.266181  \n",
       "income      0.294237  5.611542  \n",
       "inflation   0.281636  9.129718  \n",
       "life_expec  0.704258  1.380962  \n",
       "total_fer   0.617525  3.009349  "
      ]
     },
     "execution_count": 10,
     "metadata": {},
     "output_type": "execute_result"
    }
   ],
   "source": [
    "# Scaling the data and storing the output as a new DataFrame\n",
    "\n",
    "scaler = StandardScaler()\n",
    "\n",
    "data_scaled = pd.DataFrame(scaler.fit_transform(data_new), columns = data_new.columns)\n",
    "\n",
    "data_scaled.describe().T"
   ]
  },
  {
   "cell_type": "code",
   "execution_count": 11,
   "metadata": {
    "id": "j3KcNzLplfv1"
   },
   "outputs": [],
   "source": [
    "# Creating copy of the data to store labels from each algorithm\n",
    "data_scaled_copy = data_scaled.copy(deep = True)"
   ]
  },
  {
   "cell_type": "markdown",
   "metadata": {
    "id": "WZ8_Nd8mSqDB"
   },
   "source": [
    "## **K-Means Clustering**"
   ]
  },
  {
   "cell_type": "code",
   "execution_count": 12,
   "metadata": {
    "colab": {
     "base_uri": "https://localhost:8080/",
     "height": 449
    },
    "id": "0RJFEjSR83C8",
    "outputId": "3c362fae-3eac-455a-b4e5-2444432ff303"
   },
   "outputs": [
    {
     "data": {
      "image/png": "[encoded data removed]",
      "text/plain": [
       "<Figure size 640x480 with 1 Axes>"
      ]
     },
     "metadata": {},
     "output_type": "display_data"
    }
   ],
   "source": [
    "# Empty dictionary to store the SSE for each value of K\n",
    "sse = {} \n",
    "\n",
    "# Iterate for a range of Ks and fit the scaled data to the algorithm. \n",
    "# Use inertia attribute from the clustering object and store the inertia value for that K \n",
    "for k in range(1, 10):\n",
    "    kmeans = KMeans(n_clusters = k, random_state = 1).fit(data_scaled)\n",
    "    \n",
    "    sse[k] = kmeans.inertia_\n",
    "\n",
    "# Elbow plot\n",
    "plt.figure()\n",
    "\n",
    "plt.plot(list(sse.keys()), list(sse.values()), 'bx-')\n",
    "\n",
    "plt.xlabel(\"Number of cluster\")\n",
    "\n",
    "plt.ylabel(\"SSE\")\n",
    "\n",
    "plt.show()"
   ]
  },
  {
   "cell_type": "markdown",
   "metadata": {
    "id": "Q1fv-33Alfv1"
   },
   "source": [
    "**Observations:**\n",
    "\n",
    "- We can see from the plot that there is a consistent dip from 2 to 8 and there doesn't seem to be a clear 'elbow' here. We may choose any number of clusters from 2 to 8. \n",
    "- So, let's look at another method to get a 'second opinion'. Let's create a plot with Silhouette scores to see how it varies with K."
   ]
  },
  {
   "cell_type": "code",
   "execution_count": 13,
   "metadata": {
    "colab": {
     "base_uri": "https://localhost:8080/",
     "height": 449
    },
    "id": "yixqfYF5lfv2",
    "outputId": "f674e52a-807a-464e-b796-00433269c24b"
   },
   "outputs": [
    {
     "data": {
      "image/png": "[encoded data removed]",
      "text/plain": [
       "<Figure size 640x480 with 1 Axes>"
      ]
     },
     "metadata": {},
     "output_type": "display_data"
    }
   ],
   "source": [
    "# Empty dictionary to store the Silhouette score for each value of K\n",
    "sc = {} \n",
    "\n",
    "# Iterate for a range of Ks and fit the scaled data to the algorithm. Store the Silhouette score for that K \n",
    "for k in range(2, 10):\n",
    "    kmeans = KMeans(n_clusters = k, random_state = 1).fit(data_scaled)\n",
    "    \n",
    "    labels = kmeans.predict(data_scaled)\n",
    "    \n",
    "    sc[k] = silhouette_score(data_scaled, labels)\n",
    "\n",
    "# Elbow plot\n",
    "plt.figure()\n",
    "\n",
    "plt.plot(list(sc.keys()), list(sc.values()), 'bx-')\n",
    "\n",
    "plt.xlabel(\"Number of cluster\")\n",
    "\n",
    "plt.ylabel(\"Silhouette Score\")\n",
    "\n",
    "plt.show()"
   ]
  },
  {
   "cell_type": "code",
   "execution_count": 26,
   "metadata": {},
   "outputs": [
    {
     "data": {
      "text/html": [
       "<div>\n",
       "<style scoped>\n",
       "    .dataframe tbody tr th:only-of-type {\n",
       "        vertical-align: middle;\n",
       "    }\n",
       "\n",
       "    .dataframe tbody tr th {\n",
       "        vertical-align: top;\n",
       "    }\n",
       "\n",
       "    .dataframe thead th {\n",
       "        text-align: right;\n",
       "    }\n",
       "</style>\n",
       "<table border=\"1\" class=\"dataframe\">\n",
       "  <thead>\n",
       "    <tr style=\"text-align: right;\">\n",
       "      <th></th>\n",
       "      <th>child_mort</th>\n",
       "      <th>exports</th>\n",
       "      <th>health</th>\n",
       "      <th>imports</th>\n",
       "      <th>income</th>\n",
       "      <th>inflation</th>\n",
       "      <th>life_expec</th>\n",
       "      <th>total_fer</th>\n",
       "      <th>gdpp</th>\n",
       "      <th>KMeans_Labels</th>\n",
       "    </tr>\n",
       "  </thead>\n",
       "  <tbody>\n",
       "    <tr>\n",
       "      <th>0</th>\n",
       "      <td>90.2</td>\n",
       "      <td>10.0</td>\n",
       "      <td>7.58</td>\n",
       "      <td>44.9</td>\n",
       "      <td>1610</td>\n",
       "      <td>9.44</td>\n",
       "      <td>56.2</td>\n",
       "      <td>5.82</td>\n",
       "      <td>553</td>\n",
       "      <td>2</td>\n",
       "    </tr>\n",
       "    <tr>\n",
       "      <th>1</th>\n",
       "      <td>16.6</td>\n",
       "      <td>28.0</td>\n",
       "      <td>6.55</td>\n",
       "      <td>48.6</td>\n",
       "      <td>9930</td>\n",
       "      <td>4.49</td>\n",
       "      <td>76.3</td>\n",
       "      <td>1.65</td>\n",
       "      <td>4090</td>\n",
       "      <td>0</td>\n",
       "    </tr>\n",
       "    <tr>\n",
       "      <th>2</th>\n",
       "      <td>27.3</td>\n",
       "      <td>38.4</td>\n",
       "      <td>4.17</td>\n",
       "      <td>31.4</td>\n",
       "      <td>12900</td>\n",
       "      <td>16.10</td>\n",
       "      <td>76.5</td>\n",
       "      <td>2.89</td>\n",
       "      <td>4460</td>\n",
       "      <td>0</td>\n",
       "    </tr>\n",
       "    <tr>\n",
       "      <th>3</th>\n",
       "      <td>119.0</td>\n",
       "      <td>62.3</td>\n",
       "      <td>2.85</td>\n",
       "      <td>42.9</td>\n",
       "      <td>5900</td>\n",
       "      <td>22.40</td>\n",
       "      <td>60.1</td>\n",
       "      <td>6.16</td>\n",
       "      <td>3530</td>\n",
       "      <td>2</td>\n",
       "    </tr>\n",
       "    <tr>\n",
       "      <th>4</th>\n",
       "      <td>10.3</td>\n",
       "      <td>45.5</td>\n",
       "      <td>6.03</td>\n",
       "      <td>58.9</td>\n",
       "      <td>19100</td>\n",
       "      <td>1.44</td>\n",
       "      <td>76.8</td>\n",
       "      <td>2.13</td>\n",
       "      <td>12200</td>\n",
       "      <td>0</td>\n",
       "    </tr>\n",
       "  </tbody>\n",
       "</table>\n",
       "</div>"
      ],
      "text/plain": [
       "   child_mort  exports  health  imports  income  inflation  life_expec  \\\n",
       "0        90.2     10.0    7.58     44.9    1610       9.44        56.2   \n",
       "1        16.6     28.0    6.55     48.6    9930       4.49        76.3   \n",
       "2        27.3     38.4    4.17     31.4   12900      16.10        76.5   \n",
       "3       119.0     62.3    2.85     42.9    5900      22.40        60.1   \n",
       "4        10.3     45.5    6.03     58.9   19100       1.44        76.8   \n",
       "\n",
       "   total_fer   gdpp  KMeans_Labels  \n",
       "0       5.82    553              2  \n",
       "1       1.65   4090              0  \n",
       "2       2.89   4460              0  \n",
       "3       6.16   3530              2  \n",
       "4       2.13  12200              0  "
      ]
     },
     "execution_count": 26,
     "metadata": {},
     "output_type": "execute_result"
    }
   ],
   "source": [
    "data_new1.head()\n",
    "data_copy = data\n",
    "data = data_new1\n"
   ]
  },
  {
   "cell_type": "markdown",
   "metadata": {
    "id": "t3rmtgN0LCHr"
   },
   "source": [
    "**Observation:**\n",
    "\n",
    "- We observe from the plot that the silhouette score is the highest for K=3. Let's first understand these 3 clusters."
   ]
  },
  {
   "cell_type": "code",
   "execution_count": 30,
   "metadata": {
    "id": "PgqPL7_rqH9S"
   },
   "outputs": [
    {
     "data": {
      "text/html": [
       "<div>\n",
       "<style scoped>\n",
       "    .dataframe tbody tr th:only-of-type {\n",
       "        vertical-align: middle;\n",
       "    }\n",
       "\n",
       "    .dataframe tbody tr th {\n",
       "        vertical-align: top;\n",
       "    }\n",
       "\n",
       "    .dataframe thead th {\n",
       "        text-align: right;\n",
       "    }\n",
       "</style>\n",
       "<table border=\"1\" class=\"dataframe\">\n",
       "  <thead>\n",
       "    <tr style=\"text-align: right;\">\n",
       "      <th></th>\n",
       "      <th>child_mort</th>\n",
       "      <th>exports</th>\n",
       "      <th>health</th>\n",
       "      <th>imports</th>\n",
       "      <th>income</th>\n",
       "      <th>inflation</th>\n",
       "      <th>life_expec</th>\n",
       "      <th>total_fer</th>\n",
       "      <th>gdpp</th>\n",
       "      <th>KMeans_Labels</th>\n",
       "    </tr>\n",
       "  </thead>\n",
       "  <tbody>\n",
       "    <tr>\n",
       "      <th>0</th>\n",
       "      <td>90.2</td>\n",
       "      <td>10.0</td>\n",
       "      <td>7.58</td>\n",
       "      <td>44.9</td>\n",
       "      <td>1610</td>\n",
       "      <td>9.44</td>\n",
       "      <td>56.2</td>\n",
       "      <td>5.82</td>\n",
       "      <td>553</td>\n",
       "      <td>2</td>\n",
       "    </tr>\n",
       "    <tr>\n",
       "      <th>1</th>\n",
       "      <td>16.6</td>\n",
       "      <td>28.0</td>\n",
       "      <td>6.55</td>\n",
       "      <td>48.6</td>\n",
       "      <td>9930</td>\n",
       "      <td>4.49</td>\n",
       "      <td>76.3</td>\n",
       "      <td>1.65</td>\n",
       "      <td>4090</td>\n",
       "      <td>0</td>\n",
       "    </tr>\n",
       "    <tr>\n",
       "      <th>2</th>\n",
       "      <td>27.3</td>\n",
       "      <td>38.4</td>\n",
       "      <td>4.17</td>\n",
       "      <td>31.4</td>\n",
       "      <td>12900</td>\n",
       "      <td>16.10</td>\n",
       "      <td>76.5</td>\n",
       "      <td>2.89</td>\n",
       "      <td>4460</td>\n",
       "      <td>0</td>\n",
       "    </tr>\n",
       "    <tr>\n",
       "      <th>3</th>\n",
       "      <td>119.0</td>\n",
       "      <td>62.3</td>\n",
       "      <td>2.85</td>\n",
       "      <td>42.9</td>\n",
       "      <td>5900</td>\n",
       "      <td>22.40</td>\n",
       "      <td>60.1</td>\n",
       "      <td>6.16</td>\n",
       "      <td>3530</td>\n",
       "      <td>2</td>\n",
       "    </tr>\n",
       "    <tr>\n",
       "      <th>4</th>\n",
       "      <td>10.3</td>\n",
       "      <td>45.5</td>\n",
       "      <td>6.03</td>\n",
       "      <td>58.9</td>\n",
       "      <td>19100</td>\n",
       "      <td>1.44</td>\n",
       "      <td>76.8</td>\n",
       "      <td>2.13</td>\n",
       "      <td>12200</td>\n",
       "      <td>0</td>\n",
       "    </tr>\n",
       "  </tbody>\n",
       "</table>\n",
       "</div>"
      ],
      "text/plain": [
       "   child_mort  exports  health  imports  income  inflation  life_expec  \\\n",
       "0        90.2     10.0    7.58     44.9    1610       9.44        56.2   \n",
       "1        16.6     28.0    6.55     48.6    9930       4.49        76.3   \n",
       "2        27.3     38.4    4.17     31.4   12900      16.10        76.5   \n",
       "3       119.0     62.3    2.85     42.9    5900      22.40        60.1   \n",
       "4        10.3     45.5    6.03     58.9   19100       1.44        76.8   \n",
       "\n",
       "   total_fer   gdpp  KMeans_Labels  \n",
       "0       5.82    553              2  \n",
       "1       1.65   4090              0  \n",
       "2       2.89   4460              0  \n",
       "3       6.16   3530              2  \n",
       "4       2.13  12200              0  "
      ]
     },
     "execution_count": 30,
     "metadata": {},
     "output_type": "execute_result"
    }
   ],
   "source": [
    "kmeans = KMeans(n_clusters = 3, random_state = 1)\n",
    "\n",
    "kmeans.fit(data_scaled)\n",
    "\n",
    "# Adding predicted labels to the original data and the scaled data \n",
    "data_scaled_copy['KMeans_Labels'] = kmeans.predict(data_scaled)\n",
    "\n",
    "data['KMeans_Labels'] = kmeans.predict(data_scaled)\n",
    "data.head()"
   ]
  },
  {
   "cell_type": "code",
   "execution_count": 31,
   "metadata": {
    "colab": {
     "base_uri": "https://localhost:8080/"
    },
    "id": "UoBGnjy3yFBM",
    "outputId": "2a407c64-6528-4fd7-84ff-7b781a7506c7"
   },
   "outputs": [
    {
     "data": {
      "text/plain": [
       "KMeans_Labels\n",
       "0    107\n",
       "2     51\n",
       "1      9\n",
       "Name: count, dtype: int64"
      ]
     },
     "execution_count": 31,
     "metadata": {},
     "output_type": "execute_result"
    }
   ],
   "source": [
    "data['KMeans_Labels'].value_counts()"
   ]
  },
  {
   "cell_type": "markdown",
   "metadata": {
    "id": "s2fnSnR9oFeR"
   },
   "source": [
    "**Observation:**\n",
    "\n",
    "- This looks like a very skewed clustering, with only three observations in one cluster and more than a hundred in another. Let's check out the profiles of these clusters."
   ]
  },
  {
   "cell_type": "code",
   "execution_count": 33,
   "metadata": {
    "colab": {
     "base_uri": "https://localhost:8080/",
     "height": 332
    },
    "id": "F5W_TaIllfv3",
    "outputId": "f4f59c30-e4df-424a-d9b9-ed86cc2f6ccc"
   },
   "outputs": [
    {
     "data": {
      "text/html": [
       "<div>\n",
       "<style scoped>\n",
       "    .dataframe tbody tr th:only-of-type {\n",
       "        vertical-align: middle;\n",
       "    }\n",
       "\n",
       "    .dataframe tbody tr th {\n",
       "        vertical-align: top;\n",
       "    }\n",
       "\n",
       "    .dataframe thead th {\n",
       "        text-align: right;\n",
       "    }\n",
       "</style>\n",
       "<table border=\"1\" class=\"dataframe\">\n",
       "  <thead>\n",
       "    <tr style=\"text-align: right;\">\n",
       "      <th></th>\n",
       "      <th>group_0 Mean</th>\n",
       "      <th>group_1 Mean</th>\n",
       "      <th>group_2 Mean</th>\n",
       "      <th>group_0 Median</th>\n",
       "      <th>group_1 Median</th>\n",
       "      <th>group_2 Median</th>\n",
       "    </tr>\n",
       "  </thead>\n",
       "  <tbody>\n",
       "    <tr>\n",
       "      <th>child_mort</th>\n",
       "      <td>16.339252</td>\n",
       "      <td>7.766667</td>\n",
       "      <td>89.664706</td>\n",
       "      <td>14.20</td>\n",
       "      <td>8.60</td>\n",
       "      <td>88.20</td>\n",
       "    </tr>\n",
       "    <tr>\n",
       "      <th>exports</th>\n",
       "      <td>41.208224</td>\n",
       "      <td>110.988889</td>\n",
       "      <td>28.569000</td>\n",
       "      <td>38.40</td>\n",
       "      <td>93.80</td>\n",
       "      <td>23.80</td>\n",
       "    </tr>\n",
       "    <tr>\n",
       "      <th>health</th>\n",
       "      <td>7.228972</td>\n",
       "      <td>4.878889</td>\n",
       "      <td>6.290392</td>\n",
       "      <td>6.85</td>\n",
       "      <td>3.66</td>\n",
       "      <td>5.66</td>\n",
       "    </tr>\n",
       "    <tr>\n",
       "      <th>imports</th>\n",
       "      <td>45.459813</td>\n",
       "      <td>90.033333</td>\n",
       "      <td>42.277763</td>\n",
       "      <td>44.50</td>\n",
       "      <td>86.50</td>\n",
       "      <td>40.30</td>\n",
       "    </tr>\n",
       "    <tr>\n",
       "      <th>income</th>\n",
       "      <td>19338.785047</td>\n",
       "      <td>66288.888889</td>\n",
       "      <td>3868.882353</td>\n",
       "      <td>15400.00</td>\n",
       "      <td>72100.00</td>\n",
       "      <td>1930.00</td>\n",
       "    </tr>\n",
       "    <tr>\n",
       "      <th>inflation</th>\n",
       "      <td>6.093056</td>\n",
       "      <td>5.261556</td>\n",
       "      <td>11.769706</td>\n",
       "      <td>3.80</td>\n",
       "      <td>3.83</td>\n",
       "      <td>8.92</td>\n",
       "    </tr>\n",
       "    <tr>\n",
       "      <th>life_expec</th>\n",
       "      <td>75.021495</td>\n",
       "      <td>78.822222</td>\n",
       "      <td>59.727451</td>\n",
       "      <td>75.40</td>\n",
       "      <td>79.50</td>\n",
       "      <td>60.40</td>\n",
       "    </tr>\n",
       "    <tr>\n",
       "      <th>total_fer</th>\n",
       "      <td>2.129159</td>\n",
       "      <td>1.816667</td>\n",
       "      <td>4.865490</td>\n",
       "      <td>1.98</td>\n",
       "      <td>1.87</td>\n",
       "      <td>5.02</td>\n",
       "    </tr>\n",
       "    <tr>\n",
       "      <th>gdpp</th>\n",
       "      <td>15504.635514</td>\n",
       "      <td>45700.000000</td>\n",
       "      <td>1857.215686</td>\n",
       "      <td>8080.00</td>\n",
       "      <td>38500.00</td>\n",
       "      <td>967.00</td>\n",
       "    </tr>\n",
       "  </tbody>\n",
       "</table>\n",
       "</div>"
      ],
      "text/plain": [
       "            group_0 Mean  group_1 Mean  group_2 Mean  group_0 Median  \\\n",
       "child_mort     16.339252      7.766667     89.664706           14.20   \n",
       "exports        41.208224    110.988889     28.569000           38.40   \n",
       "health          7.228972      4.878889      6.290392            6.85   \n",
       "imports        45.459813     90.033333     42.277763           44.50   \n",
       "income      19338.785047  66288.888889   3868.882353        15400.00   \n",
       "inflation       6.093056      5.261556     11.769706            3.80   \n",
       "life_expec     75.021495     78.822222     59.727451           75.40   \n",
       "total_fer       2.129159      1.816667      4.865490            1.98   \n",
       "gdpp        15504.635514  45700.000000   1857.215686         8080.00   \n",
       "\n",
       "            group_1 Median  group_2 Median  \n",
       "child_mort            8.60           88.20  \n",
       "exports              93.80           23.80  \n",
       "health                3.66            5.66  \n",
       "imports              86.50           40.30  \n",
       "income            72100.00         1930.00  \n",
       "inflation             3.83            8.92  \n",
       "life_expec           79.50           60.40  \n",
       "total_fer             1.87            5.02  \n",
       "gdpp              38500.00          967.00  "
      ]
     },
     "execution_count": 33,
     "metadata": {},
     "output_type": "execute_result"
    }
   ],
   "source": [
    "# Calculating the mean and the median of the original data for each label\n",
    "mean = data.groupby('KMeans_Labels').mean()\n",
    "\n",
    "median = data.groupby('KMeans_Labels').median()\n",
    "\n",
    "df_kmeans = pd.concat([mean, median], axis = 0)\n",
    "\n",
    "df_kmeans.index = ['group_0 Mean', 'group_1 Mean', 'group_2 Mean', 'group_0 Median', 'group_1 Median', 'group_2 Median']\n",
    "\n",
    "df_kmeans.T"
   ]
  },
  {
   "cell_type": "markdown",
   "metadata": {
    "id": "_LFHEsIglEez"
   },
   "source": [
    "**Observations:**\n",
    "\n",
    "- It looks like Cluster 2 belongs to high income countries which also have high gdpp. \n",
    "- Cluster 1 seems to be of low income countries, with low mean gdp as well. \n",
    "- The remaining countries are in Cluster 0 which also happens to be the biggest cluster. Since the number of developing countries is larger than the group of highly developed countries, this intuitively makes sense.\n",
    "\n",
    "Let us now visualize the summary statistics of these clusters below."
   ]
  },
  {
   "cell_type": "code",
   "execution_count": null,
   "metadata": {
    "colab": {
     "base_uri": "https://localhost:8080/",
     "height": 1000
    },
    "id": "gHZv5CURlEe1",
    "outputId": "ac1ed6df-d00b-460b-a122-fa05a44c38ea",
    "scrolled": false
   },
   "outputs": [],
   "source": [
    "cols_visualise = ['child_mort', 'exports', 'health', 'imports', 'income', 'inflation', 'life_expec', 'total_fer', 'gdpp']\n",
    "\n",
    "for col in cols_visualise:\n",
    "    sns.boxplot(x = 'KMeans_Labels', y = col, data = data)\n",
    "    plt.show()"
   ]
  },
  {
   "cell_type": "markdown",
   "metadata": {
    "id": "bH_dHHeElEe3"
   },
   "source": [
    "**Cluster Profiles:**\n",
    "\n",
    "- Cluster 2 has only 3 observations. As observed from the scatter plots and the boxplots, this group **consists of outlier high income countries** with the highest percentages of imports and exports in terms of GDP.\n",
    "- Cluster 1 seems to have countries with less desirable values for many indicators. These countries seem to have the highest inflation rates, the lowest GDP per capita, the lowest exports as well as imports - all signaling a very poor economic situation. These countries also have the highest child mortalities, the highest fertility rates, and the lowest life expectancies. These characteristics are traits of **underdeveloped or developing countries**. These countries also seem to have a trade deficit, i.e., more imports than exports, and as a consequence, may be more reliant on borrowing and lines of credit to finance their economy.\n",
    "- Cluster 0 is the largest cluster with traits of countries that fall in the **middle of the development spectrum**. These countries have a comparatively better state of affairs than the countries in cluster 1. However, this cluster has a large range of values, indicating that it is a mix of many different types of countries. Ideally, we do not want a cluster to be like this as the fundamental idea behind clustering is to 'group similar things' and this cluster seems to have a lot of 'dissimilarity' within it.\n",
    "- Overall, this clustering solution does give us good insights into potential clusters of similar countries but is not very useful as it is impacted by outlier countries resulting in one very small cluster and two very big clusters. We should try other algorithms to see if we can do better. "
   ]
  },
  {
   "cell_type": "markdown",
   "metadata": {
    "id": "ZQCDSUErlEe5"
   },
   "source": [
    "But before that, let's validate if these clusters relate well with the GDP of the country."
   ]
  },
  {
   "cell_type": "code",
   "execution_count": null,
   "metadata": {
    "colab": {
     "base_uri": "https://localhost:8080/",
     "height": 1000
    },
    "id": "AOXwTUHaA7tW",
    "outputId": "f5701cc5-008a-464f-a2f4-ad45016d0f29",
    "scrolled": false
   },
   "outputs": [],
   "source": [
    "cols_visualise = ['child_mort', 'exports', 'health', 'imports', 'income', 'inflation', 'life_expec', 'total_fer', 'gdpp']\n",
    "\n",
    "for col in cols_visualise:\n",
    "    sns.scatterplot(x = col, y = 'gdpp', data = data, hue = 'KMeans_Labels', palette = 'Dark2')\n",
    "    \n",
    "    plt.show()"
   ]
  },
  {
   "cell_type": "markdown",
   "metadata": {
    "id": "C2dmOJgqlEe8"
   },
   "source": [
    "**Observations:**\n",
    "\n",
    "- The countries with higher fertility rates also seem to have higher populations, corresponding with lower per capita income in these countries.\n",
    "- The child mortality also seems to be negatively correlated with the GDP of the country. The high child mortality in such countries could be due to several reasons such as high poverty or lower net income per person and a relative lack of health facilities among others.\n",
    "\n",
    "Let's try another algorithm"
   ]
  },
  {
   "cell_type": "markdown",
   "metadata": {
    "id": "YNAW-TqXI64l"
   },
   "source": [
    "## **K-Medoids Clustering**"
   ]
  },
  {
   "cell_type": "code",
   "execution_count": null,
   "metadata": {
    "id": "6zINFQzNJB0j"
   },
   "outputs": [],
   "source": [
    "kmedo = KMedoids(n_clusters = 3, random_state = 1)\n",
    "\n",
    "kmedo.fit(data_scaled)\n",
    "\n",
    "data_scaled_copy['kmedoLabels'] = kmedo.predict(data_scaled)\n",
    "\n",
    "data['kmedoLabels'] = kmedo.predict(data_scaled)"
   ]
  },
  {
   "cell_type": "code",
   "execution_count": null,
   "metadata": {
    "colab": {
     "base_uri": "https://localhost:8080/"
    },
    "id": "voAuR1atLZK4",
    "outputId": "0374a0d8-020b-471b-d0ee-0aa7cd925b26"
   },
   "outputs": [],
   "source": [
    "data.kmedoLabels.value_counts()"
   ]
  },
  {
   "cell_type": "code",
   "execution_count": null,
   "metadata": {
    "colab": {
     "base_uri": "https://localhost:8080/",
     "height": 332
    },
    "id": "rIQcOnK7lfv5",
    "outputId": "e06e6889-b298-4189-d23a-cf1ed876a13a"
   },
   "outputs": [],
   "source": [
    "# Calculating the mean and the median of the original data for each label\n",
    "original_features = ['child_mort', 'exports', 'health', 'imports', 'income', 'inflation', 'life_expec', 'total_fer', 'gdpp']\n",
    "\n",
    "mean = data.groupby('kmedoLabels').mean()\n",
    "\n",
    "median = data.groupby('kmedoLabels').median()\n",
    "\n",
    "df_kmedoids = pd.concat([mean, median], axis = 0)\n",
    "\n",
    "df_kmedoids.index = ['group_0 Mean', 'group_1 Mean', 'group_2 Mean', 'group_0 Median', 'group_1 Median', 'group_2 Median']\n",
    "\n",
    "df_kmedoids[original_features].T"
   ]
  },
  {
   "cell_type": "markdown",
   "metadata": {
    "id": "2Nk81vD8lEfB"
   },
   "source": [
    "**Observations:**\n",
    "\n",
    "- It looks like Cluster 0 belongs to high income countries, Cluster 2 has poorer countries with low incomes, and the remaining countries are in Cluster 1, which happens to be the biggest cluster as well. "
   ]
  },
  {
   "cell_type": "code",
   "execution_count": null,
   "metadata": {
    "colab": {
     "base_uri": "https://localhost:8080/",
     "height": 1000
    },
    "id": "psh6-PT4lEfC",
    "outputId": "8b2b42c6-2772-4e85-d8da-3941da2d6dba",
    "scrolled": false
   },
   "outputs": [],
   "source": [
    "for col in cols_visualise:\n",
    "    sns.boxplot(x = 'kmedoLabels', y = col, data = data)\n",
    "    \n",
    "    plt.show()"
   ]
  },
  {
   "cell_type": "markdown",
   "metadata": {
    "id": "ulTmABYnWl96"
   },
   "source": [
    "**Cluster Profiles:** \n",
    "\n",
    "- Cluster 2 countries have the highest average child mortality rate, trade deficit, inflation rate and least average GDP and net income per person. But the large range of values for different variables implies that cluster 2 contains a variety of countries, from **underdeveloped to developing** ones.\n",
    "- Cluster 1 shows traits of **developing countries** with comparatively higher GDP, net income per person and significantly lower child mortality rate as compared to cluster 2. The cluster consists of some outliers but majorly it consists of countries with low to medium GDP, with a comparatively higher percentage of imports and exports vs GDP.\n",
    "- Cluster 0 shows traits of **highly developed countries** with a low child mortality rate and a higher net income per person, life expectancy, and GDP. These countries have the highest average expenditure on health as a percentage of GDP.\n",
    "\n",
    "**Observations:**\n",
    "\n",
    "- The number of observations for each cluster from K-Medoids is more evenly distributed in comparison to K-Means clustering.\n",
    "- This is because the clusters from K_Medoids are less affected by outliers from the data. As we observe, the three outlier countries from K-Means (in terms of imports and exports) are now included in cluster 1 and do not form a separate cluster like in K-Means.\n",
    "- Unlike in K-Means, the cluster for developed countries is much bigger but still retains the overall characteristics of developed countries, as reflected in the higher values for income per person, life expectancy, and especially in health expenditure as a percentage of GDP.\n",
    "\n",
    "Now, let's see what we get with Gaussian Mixture Model."
   ]
  },
  {
   "cell_type": "markdown",
   "metadata": {
    "id": "iLPn-8hClfv6"
   },
   "source": [
    "## **Gaussian Mixture Model**"
   ]
  },
  {
   "cell_type": "code",
   "execution_count": null,
   "metadata": {
    "id": "X6mn1LTclfv6"
   },
   "outputs": [],
   "source": [
    "gmm = GaussianMixture(n_components = 3, random_state = 1)\n",
    "\n",
    "gmm.fit(data_scaled)\n",
    "\n",
    "data_scaled_copy['GmmLabels'] = gmm.predict(data_scaled)\n",
    "\n",
    "data['GmmLabels'] = gmm.predict(data_scaled)"
   ]
  },
  {
   "cell_type": "code",
   "execution_count": null,
   "metadata": {
    "colab": {
     "base_uri": "https://localhost:8080/"
    },
    "id": "ZvJgndVUlfv6",
    "outputId": "28a194c0-abfe-4174-eb74-d2320cbe6304"
   },
   "outputs": [],
   "source": [
    "data.GmmLabels.value_counts()"
   ]
  },
  {
   "cell_type": "code",
   "execution_count": null,
   "metadata": {
    "colab": {
     "base_uri": "https://localhost:8080/",
     "height": 332
    },
    "id": "IG68ufrvlfv6",
    "outputId": "256e8cda-ab55-429f-f6fa-b11bbdd50468"
   },
   "outputs": [],
   "source": [
    "# Calculating the mean and the median of the original data for each label\n",
    "original_features = ['child_mort', 'exports', 'health', 'imports', 'income', 'inflation', 'life_expec', 'total_fer', 'gdpp']\n",
    "\n",
    "mean = data.groupby('GmmLabels').mean()\n",
    "\n",
    "median = data.groupby('GmmLabels').median()\n",
    "\n",
    "df_gmm = pd.concat([mean, median], axis = 0)\n",
    "\n",
    "df_gmm.index = ['group_0 Mean', 'group_1 Mean', 'group_2 Mean', 'group_0 Median', 'group_1 Median', 'group_2 Median']\n",
    "\n",
    "df_gmm[original_features].T"
   ]
  },
  {
   "cell_type": "markdown",
   "metadata": {
    "id": "OzLXS0bClEfI"
   },
   "source": [
    "**Observation:**\n",
    "\n",
    "- Cluster 1 belongs to high income countries, Cluster 0 belongs to lower income countries, and the rest of the countries are in Cluster 2."
   ]
  },
  {
   "cell_type": "code",
   "execution_count": null,
   "metadata": {
    "colab": {
     "base_uri": "https://localhost:8080/",
     "height": 1000
    },
    "id": "xHPC2_p9lEfI",
    "outputId": "ad0f1885-040a-4303-de4d-a554fbb69969",
    "scrolled": false
   },
   "outputs": [],
   "source": [
    "cols_visualise = ['child_mort', 'exports', 'health', 'imports', 'income', 'inflation', 'life_expec', 'total_fer', 'gdpp']\n",
    "\n",
    "for col in cols_visualise:\n",
    "    sns.boxplot(x = 'GmmLabels', y = col, data = data)\n",
    "    \n",
    "    plt.show()"
   ]
  },
  {
   "cell_type": "markdown",
   "metadata": {
    "id": "HbwR-A_hlEfK"
   },
   "source": [
    "**Cluster Profiles:**\n",
    "\n",
    "- This clustering solution looks very similar to the once created using K-Medoids with one cluster of 'high income' countries, one of 'low income' and one of 'all the others'. But on closer inspection, we can identify some important differences in this solution using GMM.\n",
    "\n",
    "- Cluster 1 seems to be of 'developed' countries but this time the median values for all the key indicators have all improved in comparison to the same cluster obtained from K-Medoids, with a higher GDP per capita, higher income, higher exports and imports and marginally higher life expectancy. At the same time, it has lower inflation rates, lower child mortality rates, and lower fertility as well. Overall, we can say that this cluster has become more 'pure' in comparison to the one from K-Medoids.\n",
    "\n",
    "- Cluster 0 seems to be of 'underdeveloped' countries but this time the median values for all the key indicators have improved in comparison to the corresponding K-Medoids cluster. For e.g., it has higher GDP per capita, higher income per person, higher exports and imports, and slightly better health expenditure and life expectancy. That means that this cluster of 'underdeveloped' countries has become less 'pure'.\n",
    "\n",
    "- Both of the above points can give an idea of what might have happened to the third cluster, i.e., Cluster 2. It was a mix of 'underdeveloped' & 'developing' countries and continues to be so, but it has gained some countries on the rich end of the spectrum, and some countries on the 'underdeveloped' end have moved to the last cluster.\n",
    "\n",
    "Overall, this is a slightly more evenly distributed clustering solution than K-Medoids."
   ]
  },
  {
   "cell_type": "markdown",
   "metadata": {
    "id": "500PJcYpNRIZ"
   },
   "source": [
    "## **Hierarchical Clustering**"
   ]
  },
  {
   "cell_type": "markdown",
   "metadata": {
    "id": "QpYbXItyNWGR"
   },
   "source": [
    "- Let's try to create clusters using Agglomerative Hierarchical clustering. \n",
    "- Here, we decide the number of clusters using a concept called `Dendrogram` which is a tree-like diagram that records the sequences of merges or splits."
   ]
  },
  {
   "cell_type": "code",
   "execution_count": null,
   "metadata": {
    "id": "TZ50s6vNNHJg"
   },
   "outputs": [],
   "source": [
    "from scipy.cluster.hierarchy import dendrogram, linkage"
   ]
  },
  {
   "cell_type": "code",
   "execution_count": null,
   "metadata": {
    "colab": {
     "base_uri": "https://localhost:8080/",
     "height": 729
    },
    "id": "b6OuB6sdNYsC",
    "outputId": "3156956a-d581-440a-8810-8045638261ba"
   },
   "outputs": [],
   "source": [
    "# The List of all linkage methods to check\n",
    "methods = ['single',\n",
    "           'average', \n",
    "           'complete']\n",
    "\n",
    "# Create a subplot image\n",
    "fig, axs = plt.subplots(len(methods), 1, figsize = (20, 15))\n",
    "\n",
    "# Enumerate through the list of all methods above, get linkage and plot dendrogram\n",
    "for i, method in enumerate(methods):\n",
    "    Z = linkage(data_scaled, metric = 'euclidean', method = method)\n",
    "    \n",
    "    dendrogram(Z, ax = axs[i]);\n",
    "    \n",
    "    axs[i].set_title(f'Dendrogram ({method.capitalize()} Linkage)')\n",
    "    \n",
    "    axs[i].set_ylabel('Distance')"
   ]
  },
  {
   "cell_type": "markdown",
   "metadata": {
    "id": "DDX7YeT5NfD0"
   },
   "source": [
    "**Observations:**\n",
    "\n",
    "- We can see that the complete linkage gives better separated clusters. A cluster is considered better separated if the vertical distance connecting those clusters is higher.\n",
    "- Now, we can set a threshold distance and draw a horizontal line. The number of clusters will be the number of vertical lines which are being intersected by the line drawn using the threshold. \n",
    "- The branches of this dendrogram are cut at a level where there is a lot of ‘space’ to cut them, that is where the jump in levels of two consecutive nodes is large\n",
    "- Here, we can choose to cut it at ~9 since the space between the two nodes is largest."
   ]
  },
  {
   "cell_type": "code",
   "execution_count": null,
   "metadata": {
    "colab": {
     "base_uri": "https://localhost:8080/",
     "height": 391
    },
    "id": "7due0qp5NaZh",
    "outputId": "c61ac7b7-847b-4076-83dd-39e322489297"
   },
   "outputs": [],
   "source": [
    "plt.figure(figsize = (20, 7))  \n",
    "\n",
    "plt.title(\"Dendrograms\")  \n",
    "\n",
    "dend = dendrogram(linkage(data_scaled, method = 'complete'))\n",
    "\n",
    "plt.axhline(y = 9, color = 'r', linestyle = '--')"
   ]
  },
  {
   "cell_type": "markdown",
   "metadata": {
    "id": "FGiqR6cLNlb-"
   },
   "source": [
    "**Observations:**\n",
    "\n",
    "- We can see that the if we create a horizontal line at threshold distance ~ 9, it cuts 4 vertical lines, i.e., we get 4 different clusters.  \n",
    "- Let's fit the algorithms using 4 as the number of clusters."
   ]
  },
  {
   "cell_type": "code",
   "execution_count": null,
   "metadata": {
    "colab": {
     "base_uri": "https://localhost:8080/",
     "height": 75
    },
    "id": "1RRjRuBbNhnt",
    "outputId": "ca28e509-0c99-4d05-daab-188775f890d9"
   },
   "outputs": [],
   "source": [
    "# Clustering with 4 clusters\n",
    "hierarchical = AgglomerativeClustering(n_clusters = 4, affinity = 'euclidean', linkage = 'complete')\n",
    "\n",
    "hierarchical.fit(data_scaled)"
   ]
  },
  {
   "cell_type": "code",
   "execution_count": null,
   "metadata": {
    "id": "uVi4a9xhNkIV"
   },
   "outputs": [],
   "source": [
    "data_scaled_copy['HCLabels'] = hierarchical.labels_\n",
    "\n",
    "data['HCLabels'] = hierarchical.labels_"
   ]
  },
  {
   "cell_type": "code",
   "execution_count": null,
   "metadata": {
    "colab": {
     "base_uri": "https://localhost:8080/"
    },
    "id": "JtW-ceBTN4K7",
    "outputId": "83e999c2-0500-4237-82a5-9f682c6ad499"
   },
   "outputs": [],
   "source": [
    "data.HCLabels.value_counts()"
   ]
  },
  {
   "cell_type": "markdown",
   "metadata": {
    "id": "qfoiHXWWN-t6"
   },
   "source": [
    "**Observations:**\n",
    "\n",
    "- The count of observations in the resulting 4 clusters is unevenly distributed.\n",
    "- We have two clusters with only 3 countries and 1 country, respectively. Let's check the countries in these clusters."
   ]
  },
  {
   "cell_type": "code",
   "execution_count": null,
   "metadata": {
    "colab": {
     "base_uri": "https://localhost:8080/",
     "height": 207
    },
    "id": "-WP_Xo_iN5wI",
    "outputId": "a8bbcad2-5dd6-4cf1-ad26-e323ff446de9"
   },
   "outputs": [],
   "source": [
    "# Checking 3 countries in cluster 2\n",
    "data[data.HCLabels == 2]"
   ]
  },
  {
   "cell_type": "markdown",
   "metadata": {
    "id": "LLdubGBjOE2M"
   },
   "source": [
    "**Observations:**\n",
    "\n",
    "- Similar to K-Means, we got a separate cluster for 3 small countries with the highest values for imports and exports - Luxembourg, Malta, Singapore."
   ]
  },
  {
   "cell_type": "code",
   "execution_count": null,
   "metadata": {
    "colab": {
     "base_uri": "https://localhost:8080/",
     "height": 145
    },
    "id": "Oln4_CaaOCnH",
    "outputId": "a1c1b161-c6a1-4f1d-fb53-3715728d4ad1"
   },
   "outputs": [],
   "source": [
    "# Checking 1 country in cluster 3\n",
    "data[data.HCLabels == 3]"
   ]
  },
  {
   "cell_type": "markdown",
   "metadata": {
    "id": "DPrFYS-KOJai"
   },
   "source": [
    "**Observations:**\n",
    "\n",
    "- Cluster 3 consists of just one country - Nigeria. \n",
    "- Nigeria has an inflation rate of 104 which is the highest inflation rate in this dataset. This might have made its distance with the other clusters significantly higher not allowing it to merge with any of those data points."
   ]
  },
  {
   "cell_type": "code",
   "execution_count": null,
   "metadata": {
    "colab": {
     "base_uri": "https://localhost:8080/",
     "height": 393
    },
    "id": "7Hgq9CMTOHGe",
    "outputId": "ffa4b9b6-9ce0-48b7-8f0c-ba8c40fb556d"
   },
   "outputs": [],
   "source": [
    "# Calculating the mean and the median of the original data for each label\n",
    "original_features = ['child_mort', 'exports', 'health', 'imports', 'income', 'inflation', 'life_expec', 'total_fer', 'gdpp']\n",
    "\n",
    "mean = data.groupby('HCLabels').mean()\n",
    "\n",
    "median = data.groupby('HCLabels').median()\n",
    "\n",
    "df_hierachical = pd.concat([mean, median], axis = 0)\n",
    "\n",
    "df_hierachical.index = ['group_0 Mean', 'group_1 Mean', 'group_2 Mean', 'group_3 Mean', 'group_0 Median', 'group_1 Median', 'group_2 Median', 'group_3 Median']\n",
    "\n",
    "df_hierachical[original_features].T"
   ]
  },
  {
   "cell_type": "markdown",
   "metadata": {
    "id": "QL7MdOKmsx6o"
   },
   "source": [
    "**Observations:**\n",
    "\n",
    "- It looks like Cluster 2 has only 3 countries with high income and high gdpp, Cluster 1 has low income and low gdpp countries, and the rest of the countries are in cluster 0 except for one country which is in cluster 3. \n",
    "\n",
    "Let's try to visualize the boxplots of different attributes for each cluster to see if we can spot some more granular patterns. "
   ]
  },
  {
   "cell_type": "code",
   "execution_count": null,
   "metadata": {
    "colab": {
     "base_uri": "https://localhost:8080/",
     "height": 1000
    },
    "id": "ecIBB1DmOLq7",
    "outputId": "dc2cb9e5-e5e2-434e-97cc-062564fcefe7",
    "scrolled": false
   },
   "outputs": [],
   "source": [
    "cols_visualise = ['child_mort', 'exports', 'health', 'imports', 'income', 'inflation', 'life_expec', 'total_fer', 'gdpp']\n",
    "\n",
    "for col in cols_visualise:\n",
    "    sns.boxplot(x = 'HCLabels', y = col, data = data)\n",
    "    plt.show()\n",
    "    "
   ]
  },
  {
   "cell_type": "markdown",
   "metadata": {
    "id": "OEMka2RTORBp"
   },
   "source": [
    "**Observations:**\n",
    "- The results from hierarchical clustering seem to be difficult to distinguish and comment on especially because of one cluster which contains 103 countries\n",
    "\n",
    "Let's try to use DBSCAN algorithm"
   ]
  },
  {
   "cell_type": "markdown",
   "metadata": {
    "id": "hs4plnj9OS1a"
   },
   "source": [
    "## **DBSCAN**"
   ]
  },
  {
   "cell_type": "code",
   "execution_count": null,
   "metadata": {
    "id": "ADB7Vny-OQAx"
   },
   "outputs": [],
   "source": [
    "dbs = DBSCAN(eps = 1)\n",
    "\n",
    "data_scaled_copy['DBSLabels'] = dbs.fit_predict(data_scaled)\n",
    "\n",
    "data['DBSLabels'] = dbs.fit_predict(data_scaled)"
   ]
  },
  {
   "cell_type": "code",
   "execution_count": null,
   "metadata": {
    "colab": {
     "base_uri": "https://localhost:8080/"
    },
    "id": "I9nRuXMfRuVW",
    "outputId": "7eabcc78-2647-46b0-b119-d98ade5491ec"
   },
   "outputs": [],
   "source": [
    "data['DBSLabels'].value_counts()"
   ]
  },
  {
   "cell_type": "code",
   "execution_count": null,
   "metadata": {
    "colab": {
     "base_uri": "https://localhost:8080/",
     "height": 393
    },
    "id": "AbqzH_5ZRvoJ",
    "outputId": "060f48d8-e6d3-4ea2-c036-38a2d332c316"
   },
   "outputs": [],
   "source": [
    "# Calculating the mean and the median of the original data for each label\n",
    "original_features = ['child_mort', 'exports', 'health', 'imports', 'income', 'inflation', 'life_expec', 'total_fer', 'gdpp']\n",
    "\n",
    "mean = data.groupby('DBSLabels').mean()\n",
    "\n",
    "median = data.groupby('DBSLabels').median()\n",
    "\n",
    "df_hierachical = pd.concat([mean, median], axis = 0)\n",
    "\n",
    "df_hierachical.index = ['group_-1 Mean', 'group_0 Mean', 'group_1 Mean', 'group_2 Mean', 'group_-1 Median', 'group_0 Median', 'group_1 Median', 'group_2 Median']\n",
    "\n",
    "df_hierachical[original_features].T"
   ]
  },
  {
   "cell_type": "markdown",
   "metadata": {
    "id": "U2hwKEwLd44w"
   },
   "source": [
    "**Observations:**\n",
    "\n",
    "- DBSCAN returns 4 clusters. The countries in 3 of these clusters have similar profiles to the results seen in the other clustering algorithms - high income, low income and moderately developed countries.\n",
    "- The country profile of the last cluster (cluster -1) seems uncertain. This cluster has a large difference between the mean values and the median values of various attributes implying the presence of outliers in the cluster.   \n",
    "\n",
    "Let's visualize the box plots to comment further on these clusters"
   ]
  },
  {
   "cell_type": "code",
   "execution_count": null,
   "metadata": {
    "colab": {
     "base_uri": "https://localhost:8080/",
     "height": 1000
    },
    "id": "uK2_8GVbRw8u",
    "outputId": "8eb5fade-ea28-4904-cbc5-04bb9270e9cd",
    "scrolled": false
   },
   "outputs": [],
   "source": [
    "for col in cols_visualise:\n",
    "    sns.boxplot(x = 'DBSLabels', y = col, data = data)\n",
    "    \n",
    "    plt.show()"
   ]
  },
  {
   "cell_type": "markdown",
   "metadata": {
    "id": "xEckkDoRyUJ3"
   },
   "source": [
    "**Observations**\n",
    "- We can see that while the three clusters (0, 1, and 2) seem to be way more compact across all attributes, cluster -1 consists of extreme outliers on at least one attribute. \n",
    "- Therefore, it is not adding any value to our cluster analysis. We can explore it further to understand which type of countries it consists of."
   ]
  },
  {
   "cell_type": "markdown",
   "metadata": {
    "id": "VwRicGkd37AW"
   },
   "source": [
    "## **Conclusion**\n",
    "\n",
    "The choice of clustering algorithm here will depend on the context and use case. But purely based on foundations of 'what good clustering looks like', one can propose K-Medoids as it has extreme clusters that are more distinct from each other. "
   ]
  }
 ],
 "metadata": {
  "colab": {
   "provenance": []
  },
  "kernelspec": {
   "display_name": "Python 3 (ipykernel)",
   "language": "python",
   "name": "python3"
  },
  "language_info": {
   "codemirror_mode": {
    "name": "ipython",
    "version": 3
   },
   "file_extension": ".py",
   "mimetype": "text/x-python",
   "name": "python",
   "nbconvert_exporter": "python",
   "pygments_lexer": "ipython3",
   "version": "3.11.5"
  }
 },
 "nbformat": 4,
 "nbformat_minor": 1
}

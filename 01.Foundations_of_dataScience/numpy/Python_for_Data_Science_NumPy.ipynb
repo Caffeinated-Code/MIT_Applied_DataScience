{
 "cells": [
  {
   "cell_type": "code",
   "execution_count": 1,
   "metadata": {
    "id": "ynE9R19cPIMT"
   },
   "outputs": [],
   "source": [
    "# The first step of using numpy is to tell python to import it\n",
    "import numpy as np\n",
    "import pandas as pd\n",
    "import os\n"
   ]
  },
  {
   "cell_type": "markdown",
   "metadata": {
    "id": "V7NoTi0kTGVz"
   },
   "source": [
    "### 2.1 NumPy Arrays"
   ]
  },
  {
   "cell_type": "code",
   "execution_count": 5,
   "metadata": {
    "colab": {
     "base_uri": "https://localhost:8080/"
    },
    "id": "fmWTW4OfplOc",
    "outputId": "c60392ba-4416-4a55-e207-4d61438a5c0f"
   },
   "outputs": [
    {
     "name": "stdout",
     "output_type": "stream",
     "text": [
      "Mounted at /content/drive\n",
      "\n",
      "Your working directory was changed to /content/drive/My Drive/MIT_2023/Foundations_of_datascience/\n",
      "/content/drive/My Drive/MIT_2023/Foundations_of_datascience\n"
     ]
    }
   ],
   "source": [
    "from google.colab import drive\n",
    "drive.mount('/content/drive')\n",
    "\n",
    "root_dir = \"/content/drive/My Drive/\"\n",
    "project_folder = \"MIT_2023/Foundations_of_datascience/\"\n",
    "\n",
    "def create_and_set_working_directory(project_folder):\n",
    "  # check if your project folder exists. if not, it will be created.\n",
    "  if os.path.isdir(root_dir + project_folder) == False:\n",
    "    os.mkdir(root_dir + project_folder)\n",
    "    print(root_dir + project_folder + ' did not exist but was created.')\n",
    "\n",
    "  # change the OS to use your project folder as the working directory\n",
    "  os.chdir(root_dir + project_folder)\n",
    "\n",
    "  # create a test file to make sure it shows up in the right place\n",
    "  #!touch 'new_file_in_working_directory.txt'\n",
    "  print('\\nYour working directory was changed to ' + root_dir + project_folder) #+ \\\n",
    "        #\"\\n\\nAn empty text file was created there. You can also run !pwd to confirm the current working directory.\" )\n",
    "\n",
    "create_and_set_working_directory(project_folder)\n",
    "\n",
    "!pwd"
   ]
  },
  {
   "cell_type": "markdown",
   "metadata": {
    "id": "cYsQgeSWalcG"
   },
   "source": [
    "**NumPy Array**\n",
    "* An array is a data structure that stores values of same data type.\n",
    "* While python lists can contain values corresponding to different data types, arrays in python can only contain values corresponding to the same data type.\n",
    "* However python lists fail to deliver the performance required while computing large sets of numerical data. To address this issue we use NumPy arrays.\n",
    "* We can create NumPy arrays by converting a list to an array.\n"
   ]
  },
  {
   "cell_type": "code",
   "execution_count": 22,
   "metadata": {
    "colab": {
     "base_uri": "https://localhost:8080/"
    },
    "id": "-iMbhbKUS01I",
    "outputId": "9001a7b5-2416-469e-8719-97176c3d211f"
   },
   "outputs": [
    {
     "name": "stdout",
     "output_type": "stream",
     "text": [
      "<class 'list'>\n",
      "<class 'list'>\n",
      "['int', 'int', 'int', 'int', 'int']\n",
      "{'int'}\n"
     ]
    }
   ],
   "source": [
    "# defining a list of different car companies or string elements\n",
    "arr_str = ['Mercedes', 'BMW', 'Audi', 'Ferrari', 'Tesla']\n",
    "\n",
    "# defining a list of number of cylinders in car or numerical elements\n",
    "arr_num = [5, 4, 6, 7, 3]\n",
    "\n",
    "print(type(arr_str))\n",
    "print(type(arr_num))\n",
    "\n",
    "# Types of each element in list\n",
    "print(list(type(x).__name__ for x in arr_num))\n",
    "# Unique types of each elemnt in list\n",
    "print(set(type(x).__name__ for x in arr_num))\n"
   ]
  },
  {
   "cell_type": "code",
   "execution_count": 23,
   "metadata": {
    "colab": {
     "base_uri": "https://localhost:8080/"
    },
    "id": "z8kfV796S0xz",
    "outputId": "c9bf0e75-faba-4dfc-9d9a-cb9effa53ad5"
   },
   "outputs": [
    {
     "name": "stdout",
     "output_type": "stream",
     "text": [
      "Numpy Array (arr_str):  ['Mercedes' 'BMW' 'Audi' 'Ferrari' 'Tesla']\n",
      "Numpy Array (arr_num):  [5 4 6 7 3]\n",
      "<class 'numpy.ndarray'>\n",
      "<class 'numpy.ndarray'>\n"
     ]
    }
   ],
   "source": [
    "# connverting the list arr_str to a NumPy array\n",
    "np_arr_str = np.array(arr_str)\n",
    "\n",
    "\n",
    "# connverting the list arr_num to a NumPy array\n",
    "np_arr_num = np.array(arr_num)\n",
    "\n",
    "# checking the output\n",
    "print('Numpy Array (arr_str): ',np_arr_str)\n",
    "print('Numpy Array (arr_num): ',np_arr_num)\n",
    "print(type(np_arr_str))\n",
    "print(type(np_arr_num))"
   ]
  },
  {
   "cell_type": "markdown",
   "metadata": {
    "id": "fNUnCIRbS0vz"
   },
   "source": [
    "The resuts look similar to a list but arr_str and arr_num have been converted to NumPy arrays. Let's check the data type to confirm this."
   ]
  },
  {
   "cell_type": "code",
   "execution_count": 24,
   "metadata": {
    "colab": {
     "base_uri": "https://localhost:8080/"
    },
    "id": "Cc_-eibuS0sr",
    "outputId": "f22c4717-347f-43d8-aa57-c6599af582fc"
   },
   "outputs": [
    {
     "name": "stdout",
     "output_type": "stream",
     "text": [
      "Data type of arr_str:  <class 'list'>\n",
      "Data type of arr_num:  <class 'list'>\n",
      "Data type of np_arr_str:  <class 'numpy.ndarray'>\n",
      "Data type of np_arr_num:  <class 'numpy.ndarray'>\n"
     ]
    }
   ],
   "source": [
    "# printing the data type of lists\n",
    "print('Data type of arr_str: ',type(arr_str))\n",
    "print('Data type of arr_num: ',type(arr_num))\n",
    "\n",
    "# printing the data type after conversion of lists to array\n",
    "print('Data type of np_arr_str: ',type(np_arr_str))\n",
    "print('Data type of np_arr_num: ',type(np_arr_num))"
   ]
  },
  {
   "cell_type": "markdown",
   "metadata": {
    "id": "D5MBk_c0gorg"
   },
   "source": [
    "* The above output confirms that both the lists were successfully converted to arrays"
   ]
  },
  {
   "cell_type": "markdown",
   "metadata": {
    "id": "vO-p9figS0qt"
   },
   "source": [
    "**NumPy Matrix**"
   ]
  },
  {
   "cell_type": "markdown",
   "metadata": {
    "id": "63nVxGI-dEFn"
   },
   "source": [
    "* A matrix is a two-dimensional data structure where elements are arranged into rows and columns.\n",
    "* A matrix can be created by using list of lists"
   ]
  },
  {
   "cell_type": "code",
   "execution_count": 25,
   "metadata": {
    "colab": {
     "base_uri": "https://localhost:8080/"
    },
    "id": "eHL0aPSOS0fT",
    "outputId": "2f2764de-7bef-4f74-96c0-adf87ae10320"
   },
   "outputs": [
    {
     "name": "stdout",
     "output_type": "stream",
     "text": [
      "[[1 2 1]\n",
      " [4 5 9]\n",
      " [1 8 9]]\n"
     ]
    }
   ],
   "source": [
    "# let's say we have information of different number of cylinders in a car and we want to display them in a matrix format\n",
    "matrix = np.array([[1,2,1],[4,5,9],[1,8,9]])\n",
    "print(matrix)"
   ]
  },
  {
   "cell_type": "code",
   "execution_count": 8,
   "metadata": {
    "colab": {
     "base_uri": "https://localhost:8080/"
    },
    "id": "1l5-7_3T2svj",
    "outputId": "abdb4d05-7b1d-439e-ec82-b9c91d27f9cd"
   },
   "outputs": [
    {
     "name": "stdout",
     "output_type": "stream",
     "text": [
      "Data type of matrix:  <class 'numpy.ndarray'>\n"
     ]
    }
   ],
   "source": [
    "print('Data type of matrix: ',type(matrix))"
   ]
  },
  {
   "cell_type": "markdown",
   "metadata": {
    "id": "ic8DdniJAYi4"
   },
   "source": [
    "* We see that all the NumPy objects have data type as ndarray"
   ]
  },
  {
   "cell_type": "markdown",
   "metadata": {
    "id": "s_QCIWxNPywk"
   },
   "source": [
    "### 2.2 NumPy Functions"
   ]
  },
  {
   "cell_type": "markdown",
   "metadata": {
    "id": "9ByN9uM8dIp9"
   },
   "source": [
    "**There are different ways to create NumPy arrays using the functions available in NumPy library**"
   ]
  },
  {
   "cell_type": "markdown",
   "metadata": {
    "id": "mJD-BCvcdjQY"
   },
   "source": [
    "**Using np.arange() function**\n",
    "* The np.arange() function returns an array with evenly spaced elements as per the interval. The interval mentioned is half-opened i.e. start is included but stop is excluded.\n",
    "* It has the following paramaters:\n",
    "  * start : start of interval range. By default start = 0\n",
    "  * stop  : end of interval range\n",
    "  * step  : step size of interval. By default step size = 1"
   ]
  },
  {
   "cell_type": "code",
   "execution_count": 26,
   "metadata": {
    "colab": {
     "base_uri": "https://localhost:8080/"
    },
    "id": "h6yhwhCfdhrO",
    "outputId": "f5c7e4c3-e7e4-47bb-8588-ed78abf68b40"
   },
   "outputs": [
    {
     "name": "stdout",
     "output_type": "stream",
     "text": [
      "[0 1 2 3 4 5 6 7 8 9]\n",
      "[0 1 2 3 4 5 6 7 8 9]\n"
     ]
    }
   ],
   "source": [
    "arr2  = np.arange(start = 0, stop = 10) # 10 will be excluded from the output\n",
    "print(arr2)\n",
    "\n",
    "# or\n",
    "\n",
    "arr2  = np.arange(0,10)\n",
    "print(arr2)"
   ]
  },
  {
   "cell_type": "code",
   "execution_count": 27,
   "metadata": {
    "colab": {
     "base_uri": "https://localhost:8080/"
    },
    "id": "EBQxWv87gij1",
    "outputId": "5b5cc9fa-1309-416d-e8ea-a33e46391a3e"
   },
   "outputs": [
    {
     "data": {
      "text/plain": [
       "array([ 0,  5, 10, 15])"
      ]
     },
     "execution_count": 27,
     "metadata": {},
     "output_type": "execute_result"
    }
   ],
   "source": [
    "# adding a step size of 5 to create an array\n",
    "arr3  = np.arange(start = 0, stop = 20, step = 5)\n",
    "arr3"
   ]
  },
  {
   "cell_type": "markdown",
   "metadata": {
    "id": "fadu1DMxge1S"
   },
   "source": [
    "**Using np.linspace() function**\n",
    "* The np.linspace() function returns numbers which are evenly distributed with respect to interval. Here the start and stop both are included.            \n",
    "*It has the following parameters:              \n",
    " * start: start of interval range. By default start = 0\n",
    " * stop: end of interval range\n",
    " * num : No. of samples to generate. By default num = 50"
   ]
  },
  {
   "cell_type": "code",
   "execution_count": 28,
   "metadata": {
    "colab": {
     "base_uri": "https://localhost:8080/"
    },
    "id": "AvnueiSGdhb7",
    "outputId": "0b3180a3-e73e-41bb-8409-cd139fede616"
   },
   "outputs": [
    {
     "data": {
      "text/plain": [
       "array([0.        , 0.10204082, 0.20408163, 0.30612245, 0.40816327,\n",
       "       0.51020408, 0.6122449 , 0.71428571, 0.81632653, 0.91836735,\n",
       "       1.02040816, 1.12244898, 1.2244898 , 1.32653061, 1.42857143,\n",
       "       1.53061224, 1.63265306, 1.73469388, 1.83673469, 1.93877551,\n",
       "       2.04081633, 2.14285714, 2.24489796, 2.34693878, 2.44897959,\n",
       "       2.55102041, 2.65306122, 2.75510204, 2.85714286, 2.95918367,\n",
       "       3.06122449, 3.16326531, 3.26530612, 3.36734694, 3.46938776,\n",
       "       3.57142857, 3.67346939, 3.7755102 , 3.87755102, 3.97959184,\n",
       "       4.08163265, 4.18367347, 4.28571429, 4.3877551 , 4.48979592,\n",
       "       4.59183673, 4.69387755, 4.79591837, 4.89795918, 5.        ])"
      ]
     },
     "execution_count": 28,
     "metadata": {},
     "output_type": "execute_result"
    }
   ],
   "source": [
    "matrix2 = np.linspace(0,5) # by default 50 evenly spaced values will be generated between 0 and 5\n",
    "matrix2"
   ]
  },
  {
   "cell_type": "markdown",
   "metadata": {
    "id": "zR_AydpiBToe"
   },
   "source": [
    "**How are these values getting generated?**\n",
    "\n",
    "The step size or the difference between each element will be decided by the following formula:\n",
    "\n",
    "**(stop - start) / (total elements - 1)**\n",
    "\n",
    "So, in this case:\n",
    "(5 - 0) / 49 = 0.10204082\n",
    "\n",
    "The first value will be 0.10204082, the second value will be 0.10204082 + 0.10204082, the third value will be 0.10204082 + 0.10204082 +0.10204082, and so on."
   ]
  },
  {
   "cell_type": "code",
   "execution_count": 29,
   "metadata": {
    "colab": {
     "base_uri": "https://localhost:8080/"
    },
    "id": "0VDGGmj2dhPp",
    "outputId": "d81e527e-96e5-4df1-c957-dc0166ec309a"
   },
   "outputs": [
    {
     "data": {
      "text/plain": [
       "array([10.        , 11.11111111, 12.22222222, 13.33333333, 14.44444444,\n",
       "       15.55555556, 16.66666667, 17.77777778, 18.88888889, 20.        ])"
      ]
     },
     "execution_count": 29,
     "metadata": {},
     "output_type": "execute_result"
    }
   ],
   "source": [
    "# generating 10 evenly spaced values between 10 and 20\n",
    "matrix3 = np.linspace(10,20,10)\n",
    "matrix3"
   ]
  },
  {
   "cell_type": "markdown",
   "metadata": {
    "id": "8Nxn51w2dhEE"
   },
   "source": [
    "**Similarly we can create matrices using the functions available in NumPy library**"
   ]
  },
  {
   "cell_type": "markdown",
   "metadata": {
    "id": "x9brl-h9dg2b"
   },
   "source": [
    "**Using np.zeros()**\n",
    "\n",
    "* The np.zeros() is a function for creating a matrix and performing matrix operations in NumPy.\n",
    "* It returns a matrix filled with zeros of the given shape.\n",
    "* It has the following parameters:    \n",
    "  * shape : Number of rows and columns in the output matrix.\n",
    "  * dtype: data type of the elements in the matrix, by default the value is set to `float`."
   ]
  },
  {
   "cell_type": "code",
   "execution_count": 30,
   "metadata": {
    "colab": {
     "base_uri": "https://localhost:8080/"
    },
    "id": "zcfKm8ENjNQv",
    "outputId": "2a2780a2-48b8-4147-aa98-f95889500958"
   },
   "outputs": [
    {
     "data": {
      "text/plain": [
       "array([[0., 0., 0., 0., 0.],\n",
       "       [0., 0., 0., 0., 0.],\n",
       "       [0., 0., 0., 0., 0.]])"
      ]
     },
     "execution_count": 30,
     "metadata": {},
     "output_type": "execute_result"
    }
   ],
   "source": [
    "matrix4 = np.zeros([3,5])\n",
    "matrix4"
   ]
  },
  {
   "cell_type": "markdown",
   "metadata": {
    "id": "8jy4YykQjICK"
   },
   "source": [
    "**Using np.ones()**\n",
    "\n",
    "* The np.ones() is another function for creating a matrix and performing matrix operations in NumPy.\n",
    "* It returns a matrix of given shape and type, filled with ones.\n",
    "* It has the following parameters:  \n",
    "  * shape : Number of rows and columns in the output matrix.\n",
    "  * dtype: data type of the elements in the matrix, by default the value is set to `float`."
   ]
  },
  {
   "cell_type": "code",
   "execution_count": 31,
   "metadata": {
    "colab": {
     "base_uri": "https://localhost:8080/"
    },
    "id": "JJ-hv5dcjRN1",
    "outputId": "0cb0689b-5def-4bc3-efbc-905c91e79093"
   },
   "outputs": [
    {
     "data": {
      "text/plain": [
       "array([[1., 1., 1., 1., 1.],\n",
       "       [1., 1., 1., 1., 1.],\n",
       "       [1., 1., 1., 1., 1.]])"
      ]
     },
     "execution_count": 31,
     "metadata": {},
     "output_type": "execute_result"
    }
   ],
   "source": [
    "matrix5 = np.ones([3,5])\n",
    "matrix5"
   ]
  },
  {
   "cell_type": "markdown",
   "metadata": {
    "id": "ge-0i4W2jH4S"
   },
   "source": [
    "**Using np.eye()**\n",
    "* The np.eye() is a function for creating a matrix and performing matrix operations in NumPy.\n",
    "* It returns a matrix with ones on the diagonal and zeros elsewhere.\n",
    "* It has the following parameters:\n",
    "  * n: Number of rows and columns in the output matrix\n",
    "  * dtype: data type of the elements in the matrix, by default the value is set to `float`."
   ]
  },
  {
   "cell_type": "code",
   "execution_count": 32,
   "metadata": {
    "colab": {
     "base_uri": "https://localhost:8080/"
    },
    "id": "2a0_OXeWjHou",
    "outputId": "da004399-1922-40f5-8570-bff420eab1b3"
   },
   "outputs": [
    {
     "data": {
      "text/plain": [
       "array([[1., 0., 0., 0., 0.],\n",
       "       [0., 1., 0., 0., 0.],\n",
       "       [0., 0., 1., 0., 0.],\n",
       "       [0., 0., 0., 1., 0.],\n",
       "       [0., 0., 0., 0., 1.]])"
      ]
     },
     "execution_count": 32,
     "metadata": {},
     "output_type": "execute_result"
    }
   ],
   "source": [
    "matrix6 = np.eye(5)\n",
    "matrix6"
   ]
  },
  {
   "cell_type": "markdown",
   "metadata": {
    "id": "DkJp6gB1dgHl"
   },
   "source": [
    "**We can also convert a one dimension array to a matrix. This can be done by using the np.reshape() function.**"
   ]
  },
  {
   "cell_type": "markdown",
   "metadata": {
    "id": "ifxHtcyyuVsX"
   },
   "source": [
    "* The shape of an array basically tells the number of elements and dimensions of the array. Reshaping a Numpy array simply means changing the shape of the given array.\n",
    "* By reshaping an array we can add or remove dimensions or change number of elements in each dimension.\n",
    "* In order to reshape a NumPy array, we use the reshape method with the given array.\n",
    "* **Syntax:** array.reshape(shape)\n",
    "  * shape: a tuple given as input, the values in tuple will be the new shape of the array."
   ]
  },
  {
   "cell_type": "code",
   "execution_count": 34,
   "metadata": {
    "colab": {
     "base_uri": "https://localhost:8080/"
    },
    "id": "iYbHCKdPk5hb",
    "outputId": "39c4829b-f109-4a02-a49d-7e98a9600b04"
   },
   "outputs": [
    {
     "data": {
      "text/plain": [
       "array([0, 1, 2, 3, 4, 5, 6, 7, 8, 9])"
      ]
     },
     "execution_count": 34,
     "metadata": {},
     "output_type": "execute_result"
    }
   ],
   "source": [
    "# defining an array with values 0 to 9\n",
    "arr4 = np.arange(0,10)\n",
    "arr4"
   ]
  },
  {
   "cell_type": "code",
   "execution_count": 35,
   "metadata": {
    "colab": {
     "base_uri": "https://localhost:8080/"
    },
    "id": "SE6wnu1MlbXv",
    "outputId": "cfec61cf-abe8-4e21-a0dc-0ee5a0ab4cd1"
   },
   "outputs": [
    {
     "data": {
      "text/plain": [
       "array([[0, 1, 2, 3, 4],\n",
       "       [5, 6, 7, 8, 9]])"
      ]
     },
     "execution_count": 35,
     "metadata": {},
     "output_type": "execute_result"
    }
   ],
   "source": [
    "# reshaping the array arr4 to a 2 x 5 matrix\n",
    "arr4_reshaped = arr4.reshape((2,5))\n",
    "arr4_reshaped"
   ]
  },
  {
   "cell_type": "code",
   "execution_count": 36,
   "metadata": {
    "colab": {
     "base_uri": "https://localhost:8080/"
    },
    "id": "KbuGcnPLFT2m",
    "outputId": "0eb379f0-b99b-431b-b06d-bcd2e3cc7ccc"
   },
   "outputs": [
    {
     "data": {
      "text/plain": [
       "array([0, 1, 2, 3, 4, 5, 6, 7, 8, 9])"
      ]
     },
     "execution_count": 36,
     "metadata": {},
     "output_type": "execute_result"
    }
   ],
   "source": [
    "arr4"
   ]
  },
  {
   "cell_type": "code",
   "execution_count": 37,
   "metadata": {
    "colab": {
     "base_uri": "https://localhost:8080/"
    },
    "id": "HRqcE-TT_-dQ",
    "outputId": "0593683f-025e-443a-de44-4b141441df81"
   },
   "outputs": [
    {
     "name": "stdout",
     "output_type": "stream",
     "text": [
      "[[0 1 2 3 4]\n",
      " [5 6 7 8 9]]\n"
     ]
    }
   ],
   "source": [
    "# reshaping the array arr4 to a 2 x 6 matrix\n",
    "#arr4.reshape((2,6))\n",
    "print(arr4.reshape((2,5)))"
   ]
  },
  {
   "cell_type": "markdown",
   "metadata": {
    "id": "7DGMoYswCocf"
   },
   "source": [
    "* This did not work because we have 10 elements which we are trying to fit in a 2 X 6 shape which will require 12 elements."
   ]
  },
  {
   "cell_type": "markdown",
   "metadata": {
    "id": "lNd_TddVQtWI"
   },
   "source": [
    "**NumPy can also perform a large number of different mathematical operations and it provides different functions to do so.**\n",
    "\n",
    "NumPy provides:\n",
    "1. Trigonometric functions\n",
    "2. Exponents and Logarithmic functions\n",
    "3. Functions for arithmetic operations between arrays and matrices"
   ]
  },
  {
   "cell_type": "markdown",
   "metadata": {
    "id": "CE9wPRdYn5IB"
   },
   "source": [
    "**Trigonometric functions**"
   ]
  },
  {
   "cell_type": "code",
   "execution_count": 55,
   "metadata": {
    "colab": {
     "base_uri": "https://localhost:8080/"
    },
    "id": "6iKAU71XQBXn",
    "outputId": "07802685-f380-47bf-9248-d9d1f03f2189"
   },
   "outputs": [
    {
     "name": "stdout",
     "output_type": "stream",
     "text": [
      "Sine Function: -0.7568024953079282\n",
      "Cosine Function: -0.6536436208636119\n",
      "Tan Function 1.1578212823495775\n"
     ]
    }
   ],
   "source": [
    "print('Sine Function:',np.sin(4))\n",
    "print('Cosine Function:',np.cos(4))\n",
    "print('Tan Function',np.tan(4))"
   ]
  },
  {
   "cell_type": "markdown",
   "metadata": {
    "id": "9QWy471mQEXT"
   },
   "source": [
    "**Exponents and Logarithmic functions**"
   ]
  },
  {
   "cell_type": "markdown",
   "metadata": {
    "id": "BBKFBoABoyRx"
   },
   "source": [
    "* Exponents"
   ]
  },
  {
   "cell_type": "code",
   "execution_count": 54,
   "metadata": {
    "colab": {
     "base_uri": "https://localhost:8080/"
    },
    "id": "aanbLXltoDgt",
    "outputId": "f638c217-7bdd-4947-ef61-2f6ca5f61c20"
   },
   "outputs": [
    {
     "data": {
      "text/plain": [
       "7.38905609893065"
      ]
     },
     "execution_count": 54,
     "metadata": {},
     "output_type": "execute_result"
    }
   ],
   "source": [
    "np.exp(2)"
   ]
  },
  {
   "cell_type": "code",
   "execution_count": 56,
   "metadata": {
    "colab": {
     "base_uri": "https://localhost:8080/"
    },
    "id": "9VUfgN_oomI7",
    "outputId": "62b6c0f4-6998-416d-efa0-22d2f5aa7f97"
   },
   "outputs": [
    {
     "data": {
      "text/plain": [
       "array([  7.3890561 ,  54.59815003, 403.42879349])"
      ]
     },
     "execution_count": 56,
     "metadata": {},
     "output_type": "execute_result"
    }
   ],
   "source": [
    "arr5 = np.array([2,4,6])\n",
    "np.exp(arr5)"
   ]
  },
  {
   "cell_type": "markdown",
   "metadata": {
    "id": "BgTCC-v6ouZn"
   },
   "source": [
    "* Logarithms"
   ]
  },
  {
   "cell_type": "code",
   "execution_count": 57,
   "metadata": {
    "colab": {
     "base_uri": "https://localhost:8080/"
    },
    "id": "7V8RWfDipHOQ",
    "outputId": "f2884363-ef8a-4ad3-a4bd-fdb6b021809b"
   },
   "outputs": [
    {
     "data": {
      "text/plain": [
       "0.6931471805599453"
      ]
     },
     "execution_count": 57,
     "metadata": {},
     "output_type": "execute_result"
    }
   ],
   "source": [
    "# by default NumPy takes the base of log as e\n",
    "np.log(2)"
   ]
  },
  {
   "cell_type": "code",
   "execution_count": 58,
   "metadata": {
    "colab": {
     "base_uri": "https://localhost:8080/"
    },
    "id": "CH5eCec2pJLo",
    "outputId": "c7659904-2234-421b-bfec-227a4955dbb5"
   },
   "outputs": [
    {
     "data": {
      "text/plain": [
       "array([0.69314718, 1.38629436, 1.79175947])"
      ]
     },
     "execution_count": 58,
     "metadata": {},
     "output_type": "execute_result"
    }
   ],
   "source": [
    "np.log(arr5)"
   ]
  },
  {
   "cell_type": "code",
   "execution_count": 59,
   "metadata": {
    "colab": {
     "base_uri": "https://localhost:8080/"
    },
    "id": "bgam8aXTpOVc",
    "outputId": "a21cb32c-d6aa-4410-8f3f-3d414e3bf3ec"
   },
   "outputs": [
    {
     "data": {
      "text/plain": [
       "0.9030899869919435"
      ]
     },
     "execution_count": 59,
     "metadata": {},
     "output_type": "execute_result"
    }
   ],
   "source": [
    "## log with base 10\n",
    "np.log10(8)"
   ]
  },
  {
   "cell_type": "markdown",
   "metadata": {
    "id": "jDCujvq0pWZr"
   },
   "source": [
    "**Arithmetic Operations on arrays**"
   ]
  },
  {
   "cell_type": "code",
   "execution_count": 61,
   "metadata": {
    "colab": {
     "base_uri": "https://localhost:8080/"
    },
    "id": "SXFDL0TeKJZT",
    "outputId": "18a631db-8c1a-464c-80e3-a4e6c344da63"
   },
   "outputs": [
    {
     "name": "stdout",
     "output_type": "stream",
     "text": [
      "[1, 2, 3, 4, 5, 6]\n"
     ]
    }
   ],
   "source": [
    "# arithmetic on lists\n",
    "\n",
    "l1 = [1,2,3]\n",
    "l2 = [4,5,6]\n",
    "print(l1+l2)\n",
    "# this does not behave as you would expect!\n"
   ]
  },
  {
   "cell_type": "code",
   "execution_count": 48,
   "metadata": {
    "colab": {
     "base_uri": "https://localhost:8080/"
    },
    "id": "MHZKZFP8ppQx",
    "outputId": "03711823-355d-475e-c6d2-025ecf6b6b90"
   },
   "outputs": [
    {
     "name": "stdout",
     "output_type": "stream",
     "text": [
      "arr7: [1 2 3 4 5]\n",
      "arr8: [3 4 5 6 7]\n"
     ]
    }
   ],
   "source": [
    "# we can +-*/ arrays together\n",
    "\n",
    "# defining two arrays\n",
    "arr7 = np.arange(1,6)\n",
    "print('arr7:', arr7)\n",
    "\n",
    "arr8 = np.arange(3,8)\n",
    "print('arr8:', arr8)"
   ]
  },
  {
   "cell_type": "code",
   "execution_count": 62,
   "metadata": {
    "colab": {
     "base_uri": "https://localhost:8080/"
    },
    "id": "xkMkQOL8rHOw",
    "outputId": "a6be6395-bc87-4489-d4dc-9ee3279d05f6"
   },
   "outputs": [
    {
     "name": "stdout",
     "output_type": "stream",
     "text": [
      "Addition:  [ 4  6  8 10 12]\n",
      "Subtraction:  [2 2 2 2 2]\n",
      "Multiplication: [ 3  8 15 24 35]\n",
      "Division: [0.33333333 0.5        0.6        0.66666667 0.71428571]\n",
      "Inverse: [1.         0.5        0.33333333 0.25       0.2       ]\n",
      "Powers: [    1    16   243  4096 78125]\n"
     ]
    }
   ],
   "source": [
    "print('Addition: ',arr7+arr8)\n",
    "print('Subtraction: ',arr8-arr7)\n",
    "print('Multiplication:' , arr7*arr8)\n",
    "print('Division:', arr7/arr8)\n",
    "print('Inverse:', 1/arr7)\n",
    "print('Powers:', arr7**arr8) # in python, powers are achieved using **, NOT ^!!! ^ does something completely different!"
   ]
  },
  {
   "cell_type": "markdown",
   "metadata": {
    "id": "SrE8fcrFtt7c"
   },
   "source": [
    "**Operations on Matrices**"
   ]
  },
  {
   "cell_type": "code",
   "execution_count": 63,
   "metadata": {
    "colab": {
     "base_uri": "https://localhost:8080/"
    },
    "id": "p-lZfDhUrb2b",
    "outputId": "4288eb39-a4d2-4319-86b9-fad3093182bf"
   },
   "outputs": [
    {
     "name": "stdout",
     "output_type": "stream",
     "text": [
      "[[1 2 3]\n",
      " [4 5 6]\n",
      " [7 8 9]]\n",
      "[[1. 0. 0.]\n",
      " [0. 1. 0.]\n",
      " [0. 0. 1.]]\n"
     ]
    }
   ],
   "source": [
    "matrix7 = np.arange(1,10).reshape(3,3)\n",
    "print(matrix7)\n",
    "\n",
    "matrix8 = np.eye(3)\n",
    "print(matrix8)"
   ]
  },
  {
   "cell_type": "code",
   "execution_count": 51,
   "metadata": {
    "colab": {
     "base_uri": "https://localhost:8080/"
    },
    "id": "VGBAxsUUtyts",
    "outputId": "60da6591-0de7-474a-8ccd-c5626d20a1b7"
   },
   "outputs": [
    {
     "name": "stdout",
     "output_type": "stream",
     "text": [
      "Addition: \n",
      " [[ 2.  2.  3.]\n",
      " [ 4.  6.  6.]\n",
      " [ 7.  8. 10.]]\n",
      "Subtraction: \n",
      "  [[0. 2. 3.]\n",
      " [4. 4. 6.]\n",
      " [7. 8. 8.]]\n",
      "Multiplication: \n",
      " [[1. 0. 0.]\n",
      " [0. 5. 0.]\n",
      " [0. 0. 9.]]\n",
      "Division: \n",
      " [[ 1. inf inf]\n",
      " [inf  5. inf]\n",
      " [inf inf  9.]]\n"
     ]
    },
    {
     "name": "stderr",
     "output_type": "stream",
     "text": [
      "<ipython-input-51-b49c47b4c85a>:4: RuntimeWarning: divide by zero encountered in divide\n",
      "  print('Division: \\n', matrix7/matrix8)\n"
     ]
    }
   ],
   "source": [
    "print('Addition: \\n', matrix7+matrix8)\n",
    "print('Subtraction: \\n ', matrix7-matrix8)\n",
    "print('Multiplication: \\n', matrix7*matrix8)\n",
    "print('Division: \\n', matrix7/matrix8)"
   ]
  },
  {
   "cell_type": "markdown",
   "metadata": {
    "id": "c7jHF8Od6mHH"
   },
   "source": [
    "* RuntimeWarning: Errors which occur during program execution(run-time) after successful compilation are called run-time errors.\n",
    "* One of the most common run-time error is division by zero also known as Division error.\n",
    "* Due to division by zero error, we are getting inf (infinity) values because 1/0 is not a defined operation."
   ]
  },
  {
   "cell_type": "markdown",
   "metadata": {
    "id": "3WYcA-OxyL9Y"
   },
   "source": [
    "**Linear algebra matrix multiplication**"
   ]
  },
  {
   "cell_type": "code",
   "execution_count": 52,
   "metadata": {
    "colab": {
     "base_uri": "https://localhost:8080/"
    },
    "id": "nc0PAuG3sM6A",
    "outputId": "5c438d9d-2f03-4d8e-e915-73e864db84cd"
   },
   "outputs": [
    {
     "name": "stdout",
     "output_type": "stream",
     "text": [
      "First Matrix: \n",
      " [[1 2 3]\n",
      " [4 5 6]\n",
      " [7 8 9]]\n",
      "Second Matrix: \n",
      " [[11 12 13]\n",
      " [14 15 16]\n",
      " [17 18 19]]\n",
      "\n",
      "Multiplication: \n",
      " [[ 90  96 102]\n",
      " [216 231 246]\n",
      " [342 366 390]]\n"
     ]
    }
   ],
   "source": [
    "matrix9 = np.arange(1,10).reshape(3,3)\n",
    "print('First Matrix: \\n',matrix9)\n",
    "\n",
    "matrix10 = np.arange(11,20).reshape(3,3)\n",
    "print('Second Matrix: \\n',matrix10)\n",
    "print('')\n",
    "# taking linear algebra matrix multiplication (some may have heard this called the dot product)\n",
    "print('Multiplication: \\n', matrix9 @ matrix10)"
   ]
  },
  {
   "cell_type": "markdown",
   "metadata": {
    "id": "LQVkMw7Iynfu"
   },
   "source": [
    "**Transpose of a matrix**"
   ]
  },
  {
   "cell_type": "code",
   "execution_count": 64,
   "metadata": {
    "colab": {
     "base_uri": "https://localhost:8080/"
    },
    "id": "DJp3NtsrsSM4",
    "outputId": "62d9820b-5f65-4e99-a7a8-1694edd0ae1e"
   },
   "outputs": [
    {
     "name": "stdout",
     "output_type": "stream",
     "text": [
      "[[1 2 3]\n",
      " [4 5 6]\n",
      " [7 8 9]]\n"
     ]
    }
   ],
   "source": [
    "print(matrix9)"
   ]
  },
  {
   "cell_type": "code",
   "execution_count": 65,
   "metadata": {
    "colab": {
     "base_uri": "https://localhost:8080/"
    },
    "id": "MDKJgUlptKet",
    "outputId": "99575bcd-a8ad-4d65-b65c-52276e622499"
   },
   "outputs": [
    {
     "data": {
      "text/plain": [
       "array([[1, 4, 7],\n",
       "       [2, 5, 8],\n",
       "       [3, 6, 9]])"
      ]
     },
     "execution_count": 65,
     "metadata": {},
     "output_type": "execute_result"
    }
   ],
   "source": [
    "# taking transpose of matrix\n",
    "np.transpose(matrix9)"
   ]
  },
  {
   "cell_type": "code",
   "execution_count": 66,
   "metadata": {
    "colab": {
     "base_uri": "https://localhost:8080/"
    },
    "id": "PwwpvruatMRj",
    "outputId": "e7d200fd-a604-48a8-f652-e652cb1b12a8"
   },
   "outputs": [
    {
     "data": {
      "text/plain": [
       "array([[1, 4, 7],\n",
       "       [2, 5, 8],\n",
       "       [3, 6, 9]])"
      ]
     },
     "execution_count": 66,
     "metadata": {},
     "output_type": "execute_result"
    }
   ],
   "source": [
    "# another way of taking a transpose\n",
    "matrix9.T"
   ]
  },
  {
   "cell_type": "markdown",
   "metadata": {
    "id": "YSl_vQk70bCS"
   },
   "source": [
    "**Function to find minimum and maximum values**"
   ]
  },
  {
   "cell_type": "code",
   "execution_count": 67,
   "metadata": {
    "colab": {
     "base_uri": "https://localhost:8080/"
    },
    "id": "TmPZB7tu0a2c",
    "outputId": "6ebd5b5b-57f1-40d9-8627-77cc90a77deb"
   },
   "outputs": [
    {
     "name": "stdout",
     "output_type": "stream",
     "text": [
      "[[1 2 3]\n",
      " [4 5 6]\n",
      " [7 8 9]]\n"
     ]
    }
   ],
   "source": [
    "print(matrix9)"
   ]
  },
  {
   "cell_type": "code",
   "execution_count": 68,
   "metadata": {
    "colab": {
     "base_uri": "https://localhost:8080/"
    },
    "id": "394LL_BZ0alr",
    "outputId": "03ae89c9-e883-44d5-ee84-b3e6e5016b34"
   },
   "outputs": [
    {
     "name": "stdout",
     "output_type": "stream",
     "text": [
      "Minimum value:  1\n"
     ]
    }
   ],
   "source": [
    "print('Minimum value: ',np.min(matrix9))"
   ]
  },
  {
   "cell_type": "code",
   "execution_count": 69,
   "metadata": {
    "colab": {
     "base_uri": "https://localhost:8080/"
    },
    "id": "SVs2Zx0J0ac3",
    "outputId": "7c1476ea-2a8e-4eed-fc65-180555dfe856"
   },
   "outputs": [
    {
     "name": "stdout",
     "output_type": "stream",
     "text": [
      "Maximum value:  9\n"
     ]
    }
   ],
   "source": [
    "print('Maximum value: ',np.max(matrix9))"
   ]
  },
  {
   "cell_type": "markdown",
   "metadata": {
    "id": "7NNtvTmh0aRf"
   },
   "source": [
    "**Function to generate random samples**"
   ]
  },
  {
   "cell_type": "markdown",
   "metadata": {
    "id": "XO47Cq8L3Gb3"
   },
   "source": [
    "**Using np.random.rand function**\n",
    "\n",
    "* The np.random.rand returns a random NumPy array whose element(s) are drawn randomly from the uniform distribution over [0,1). (including 0 but excluding 1).\n",
    "* **Syntax** - np.random.rand(d0,d1)\n",
    "  * d0,d1 – It represents the dimension of the required array given as int, where d1 is optional."
   ]
  },
  {
   "cell_type": "code",
   "execution_count": null,
   "metadata": {
    "colab": {
     "base_uri": "https://localhost:8080/"
    },
    "id": "Neq3fBGH4N7F",
    "outputId": "2f6b4a8b-dcc1-4c90-defe-1a84854ea3f9"
   },
   "outputs": [
    {
     "name": "stdout",
     "output_type": "stream",
     "text": [
      "[0.1849803  0.40907032 0.43320279 0.20128129 0.14866145]\n"
     ]
    }
   ],
   "source": [
    "# Generating random values in an array\n",
    "rand_mat = np.random.rand(5)\n",
    "print(rand_mat)"
   ]
  },
  {
   "cell_type": "code",
   "execution_count": null,
   "metadata": {
    "colab": {
     "base_uri": "https://localhost:8080/"
    },
    "id": "QQHFrAce1570",
    "outputId": "e03aad3b-e7be-4b72-e9b3-e578f183f6d3"
   },
   "outputs": [
    {
     "name": "stdout",
     "output_type": "stream",
     "text": [
      "[[0.74674765 0.39426306 0.83013246 0.59158138 0.33519229]\n",
      " [0.30061878 0.74846432 0.85288519 0.22903368 0.77846736]\n",
      " [0.03130384 0.25880234 0.28800138 0.39070634 0.74455262]\n",
      " [0.1001066  0.2882508  0.5651407  0.66282803 0.08676726]\n",
      " [0.61007231 0.95430991 0.75879184 0.29681776 0.22827461]]\n"
     ]
    }
   ],
   "source": [
    "# * Generating random values in a matrix\n",
    "rand_mat = np.random.rand(5,5) # uniform random variable\n",
    "print(rand_mat)"
   ]
  },
  {
   "cell_type": "markdown",
   "metadata": {
    "id": "VvvK-7Sh3PfD"
   },
   "source": [
    "**Using np.random.randn function**\n",
    "\n",
    "* The np.random.randn returns a random numpy array whose sample(s) are drawn randomly from the standard normal distribution (Mean as 0 and standard deviation as 1)\n",
    "\n",
    "* **Syntax** - np.random.randn(d0,d1)\n",
    "  * d0,d1 – It represents the dimension of the output, where d1 is optional."
   ]
  },
  {
   "cell_type": "code",
   "execution_count": null,
   "metadata": {
    "colab": {
     "base_uri": "https://localhost:8080/"
    },
    "id": "Ll_boKdQ4Y-b",
    "outputId": "d0c6a31c-b66a-47e8-ab1a-af3b829066ae"
   },
   "outputs": [
    {
     "name": "stdout",
     "output_type": "stream",
     "text": [
      "[0.66222394 2.44126474 0.41205704 0.04786961 1.04811775]\n"
     ]
    }
   ],
   "source": [
    "# Generating random values in an array\n",
    "rand_mat2 = np.random.randn(5)\n",
    "print(rand_mat2)"
   ]
  },
  {
   "cell_type": "code",
   "execution_count": null,
   "metadata": {
    "colab": {
     "base_uri": "https://localhost:8080/"
    },
    "id": "1jaiT-oZ2CyD",
    "outputId": "ead08d0e-f194-4631-aeaa-e90dcc245c8e"
   },
   "outputs": [
    {
     "name": "stdout",
     "output_type": "stream",
     "text": [
      "[[ 0.2820466   0.31424354 -0.51386568 -0.45097053 -1.12771526]\n",
      " [ 0.05229145 -2.12906168  0.78210721  0.74668925 -0.73695471]\n",
      " [ 0.70736688  0.41313492 -0.84423005 -0.11143511  1.8729083 ]\n",
      " [ 0.5017195   0.71736157  1.49309021  0.45919776 -0.13238773]\n",
      " [ 1.10234237 -0.20650805 -0.91874445  1.11226684 -0.45414538]]\n"
     ]
    }
   ],
   "source": [
    "# Generating random values in a matrix\n",
    "rand_mat2 = np.random.randn(5,5)\n",
    "print(rand_mat2)"
   ]
  },
  {
   "cell_type": "code",
   "execution_count": null,
   "metadata": {
    "colab": {
     "base_uri": "https://localhost:8080/"
    },
    "id": "TldcCrOS5ulV",
    "outputId": "754c72ad-7f9b-459d-9640-72eba1e5a46f"
   },
   "outputs": [
    {
     "name": "stdout",
     "output_type": "stream",
     "text": [
      "Mean: 0.11722991137038243\n",
      "Standard Deviation: 0.883066783507808\n"
     ]
    }
   ],
   "source": [
    "# Let's check the mean and standard deviation of rand_mat2\n",
    "print('Mean:',np.mean(rand_mat2))\n",
    "print('Standard Deviation:',np.std(rand_mat2))"
   ]
  },
  {
   "cell_type": "markdown",
   "metadata": {
    "id": "66BnHAPW6Ere"
   },
   "source": [
    "*  We observe that the mean is very close to 0 and standard deviation is very close to 1."
   ]
  },
  {
   "cell_type": "markdown",
   "metadata": {
    "id": "T_0yFxGh3U2D"
   },
   "source": [
    "**Using np.random.randint function**\n",
    "\n",
    "* The np.random.randint returns a random numpy array whose element(s) are drawn randomly from low (inclusive) to the high (exclusive) range.\n",
    "\n",
    "* **Syntax** - np.random.randint(low, high, size)\n",
    "\n",
    "  * low – It represents the lowest inclusive bound of the distribution from where the sample can be drawn.\n",
    "  * high – It represents the upper exclusive bound of the distribution from where the sample can be drawn.\n",
    "  * size – It represents the shape of the output."
   ]
  },
  {
   "cell_type": "code",
   "execution_count": null,
   "metadata": {
    "colab": {
     "base_uri": "https://localhost:8080/"
    },
    "id": "vLPM7a0N2EHA",
    "outputId": "212b2ad7-46cb-4e30-f1cd-4d559db99fcb"
   },
   "outputs": [
    {
     "name": "stdout",
     "output_type": "stream",
     "text": [
      "[3 2 3 1 2 4 3 3 4 4]\n"
     ]
    }
   ],
   "source": [
    "# Generating random values in an array\n",
    "rand_mat3 = np.random.randint(1,5,10)\n",
    "print(rand_mat3)"
   ]
  },
  {
   "cell_type": "code",
   "execution_count": null,
   "metadata": {
    "colab": {
     "base_uri": "https://localhost:8080/"
    },
    "id": "u9YqKltk486n",
    "outputId": "772fdcf1-1dcb-4fd7-f738-3324285b6ff3"
   },
   "outputs": [
    {
     "name": "stdout",
     "output_type": "stream",
     "text": [
      "[[1 5 2 1 2]\n",
      " [6 1 7 1 8]\n",
      " [6 6 5 2 5]\n",
      " [4 3 7 3 1]\n",
      " [2 6 1 1 5]]\n"
     ]
    }
   ],
   "source": [
    "# Generating random values in a matrix\n",
    "rand_mat3 = np.random.randint(1,10,[5,5])\n",
    "print(rand_mat3)"
   ]
  },
  {
   "cell_type": "markdown",
   "metadata": {
    "id": "J-K_ecWJ6M6n"
   },
   "source": [
    "### 2.3 Accessing the entries of a Numpy Array"
   ]
  },
  {
   "cell_type": "code",
   "execution_count": null,
   "metadata": {
    "colab": {
     "base_uri": "https://localhost:8080/"
    },
    "id": "4Tiy6KJw3a5A",
    "outputId": "40debad6-e1cc-4c14-dce4-c69453246dea"
   },
   "outputs": [
    {
     "name": "stdout",
     "output_type": "stream",
     "text": [
      "[-0.61610084  0.256255   -1.02474372  1.69663775  0.14830608  0.0587465\n",
      " -0.58451129  0.09827507  1.38926594  0.52114238]\n"
     ]
    }
   ],
   "source": [
    "# let's generate an array with 10 random values\n",
    "rand_arr = np.random.randn(10)\n",
    "print(rand_arr)"
   ]
  },
  {
   "cell_type": "markdown",
   "metadata": {
    "id": "gJlNtFKwaZUv"
   },
   "source": [
    "* Accessing one element from an array"
   ]
  },
  {
   "cell_type": "code",
   "execution_count": null,
   "metadata": {
    "colab": {
     "base_uri": "https://localhost:8080/"
    },
    "id": "PtSqbI-Y3awc",
    "outputId": "af3f7205-de8c-49b9-b3dd-a976a5ef4e4c"
   },
   "outputs": [
    {
     "name": "stdout",
     "output_type": "stream",
     "text": [
      "-0.5845112936165019\n"
     ]
    }
   ],
   "source": [
    "# accessing the 6 th entry of rand_arr\n",
    "print(rand_arr[6])"
   ]
  },
  {
   "cell_type": "markdown",
   "metadata": {
    "id": "Ywt2eQx-aZUv"
   },
   "source": [
    "* Accessing multiple elements from an array"
   ]
  },
  {
   "cell_type": "code",
   "execution_count": null,
   "metadata": {
    "colab": {
     "base_uri": "https://localhost:8080/"
    },
    "id": "HZ8Yb_3h3amG",
    "outputId": "750954eb-c35c-45ab-8d97-758702a865e6"
   },
   "outputs": [
    {
     "name": "stdout",
     "output_type": "stream",
     "text": [
      "[ 0.14830608  0.0587465  -0.58451129  0.09827507  1.38926594]\n"
     ]
    }
   ],
   "source": [
    "# we can access multiple entries at once using\n",
    "print(rand_arr[4:9])"
   ]
  },
  {
   "cell_type": "code",
   "execution_count": null,
   "metadata": {
    "colab": {
     "base_uri": "https://localhost:8080/"
    },
    "id": "pNcRsFbK3aZP",
    "outputId": "c253f8c1-bba7-40cc-d54c-86863c6e8798"
   },
   "outputs": [
    {
     "name": "stdout",
     "output_type": "stream",
     "text": [
      "Index of values to access:  [3 6 9]\n",
      "[ 1.69663775 -0.58451129  0.52114238]\n"
     ]
    }
   ],
   "source": [
    "# we can also access multiple non-consecutive entries using np.arange\n",
    "print('Index of values to access: ',np.arange(3,10,3))\n",
    "print(rand_arr[np.arange(3,10,3)])"
   ]
  },
  {
   "cell_type": "markdown",
   "metadata": {
    "id": "m0_dOkPKc7bL"
   },
   "source": [
    "**Accessing arrays using logical operations**"
   ]
  },
  {
   "cell_type": "code",
   "execution_count": null,
   "metadata": {
    "colab": {
     "base_uri": "https://localhost:8080/"
    },
    "id": "_8v77EwOcwPM",
    "outputId": "c89f7bdb-ccd0-4a69-d914-2c754c93c6ec"
   },
   "outputs": [
    {
     "name": "stdout",
     "output_type": "stream",
     "text": [
      "[-0.61610084  0.256255   -1.02474372  1.69663775  0.14830608  0.0587465\n",
      " -0.58451129  0.09827507  1.38926594  0.52114238]\n"
     ]
    }
   ],
   "source": [
    "print(rand_arr)"
   ]
  },
  {
   "cell_type": "code",
   "execution_count": null,
   "metadata": {
    "colab": {
     "base_uri": "https://localhost:8080/"
    },
    "id": "u7QvbkGfc_Mf",
    "outputId": "e8d20b7e-19a9-4128-982c-787e19412c1a"
   },
   "outputs": [
    {
     "data": {
      "text/plain": [
       "array([False,  True, False,  True,  True,  True, False,  True,  True,\n",
       "        True])"
      ]
     },
     "execution_count": 48,
     "metadata": {},
     "output_type": "execute_result"
    }
   ],
   "source": [
    "rand_arr>0"
   ]
  },
  {
   "cell_type": "code",
   "execution_count": null,
   "metadata": {
    "colab": {
     "base_uri": "https://localhost:8080/"
    },
    "id": "PwjFRjDiczAS",
    "outputId": "a41c1aa0-7fef-4053-f243-7b8df7eed3d1"
   },
   "outputs": [
    {
     "name": "stdout",
     "output_type": "stream",
     "text": [
      "Values greater than 0:  [0.256255   1.69663775 0.14830608 0.0587465  0.09827507 1.38926594\n",
      " 0.52114238]\n",
      "Values less than 0:  [-0.61610084 -1.02474372 -0.58451129]\n"
     ]
    }
   ],
   "source": [
    "# accessing all the values of rand_arr which are greater than 0\n",
    "print('Values greater than 0: ',rand_arr[rand_arr>0])\n",
    "\n",
    "# accessing all the values of rand_arr which are less than 0\n",
    "print('Values less than 0: ',rand_arr[rand_arr<0])"
   ]
  },
  {
   "cell_type": "markdown",
   "metadata": {
    "id": "9j2nb_lX3aKJ"
   },
   "source": [
    "**Accessing the entries of a Matrix**"
   ]
  },
  {
   "cell_type": "code",
   "execution_count": null,
   "metadata": {
    "colab": {
     "base_uri": "https://localhost:8080/"
    },
    "id": "rUT3MtuX3Z-o",
    "outputId": "2d5844c9-f29e-487d-f599-510db9ccce66"
   },
   "outputs": [
    {
     "name": "stdout",
     "output_type": "stream",
     "text": [
      "[[ 0.66008467 -0.91860835 -0.91768744 -0.56565779 -0.19013084]\n",
      " [ 0.68692112  1.20042327 -0.55648032  0.51675983 -1.13325252]\n",
      " [ 1.76883638 -0.85498119  1.89998922 -1.0658905   1.50531893]\n",
      " [ 0.77388464 -1.24206763  0.75631041  1.01940576  0.89747448]\n",
      " [ 0.37852758 -1.36846366 -0.91566544 -0.47943544 -0.20226054]]\n"
     ]
    }
   ],
   "source": [
    "# let's generate an array with 10 random values\n",
    "rand_mat = np.random.randn(5,5)\n",
    "print(rand_mat)"
   ]
  },
  {
   "cell_type": "code",
   "execution_count": null,
   "metadata": {
    "colab": {
     "base_uri": "https://localhost:8080/"
    },
    "id": "aH5KNWYJ8AAi",
    "outputId": "95dddd73-7b44-441f-f1ca-9ef4bdbe517f"
   },
   "outputs": [
    {
     "data": {
      "text/plain": [
       "array([ 0.68692112,  1.20042327, -0.55648032,  0.51675983, -1.13325252])"
      ]
     },
     "execution_count": 51,
     "metadata": {},
     "output_type": "execute_result"
    }
   ],
   "source": [
    "# acessing the second row of the rand_mat\n",
    "rand_mat[1]"
   ]
  },
  {
   "cell_type": "code",
   "execution_count": null,
   "metadata": {
    "colab": {
     "base_uri": "https://localhost:8080/"
    },
    "id": "cKPauEeS3Zya",
    "outputId": "87ba94bb-f7ea-41f9-ee96-94bb03582dbd"
   },
   "outputs": [
    {
     "name": "stdout",
     "output_type": "stream",
     "text": [
      "-0.5564803167132045\n",
      "-0.5564803167132045\n"
     ]
    }
   ],
   "source": [
    "# acessing third element of the second row\n",
    "print(rand_mat[1][2])\n",
    "\n",
    "#or\n",
    "\n",
    "print(rand_mat[1,2])"
   ]
  },
  {
   "cell_type": "code",
   "execution_count": null,
   "metadata": {
    "colab": {
     "base_uri": "https://localhost:8080/"
    },
    "id": "md90xMiX3ZhX",
    "outputId": "d9b022f4-9775-4033-ce20-de29677fffc1"
   },
   "outputs": [
    {
     "name": "stdout",
     "output_type": "stream",
     "text": [
      "[[-0.91860835 -0.91768744]\n",
      " [ 1.20042327 -0.55648032]]\n"
     ]
    }
   ],
   "source": [
    "# accessing first two rows with second and third column\n",
    "print(rand_mat[0:2,1:3])"
   ]
  },
  {
   "cell_type": "markdown",
   "metadata": {
    "id": "ZQIPaCTxdTkx"
   },
   "source": [
    "**Accessing matrices using logical operations**"
   ]
  },
  {
   "cell_type": "code",
   "execution_count": null,
   "metadata": {
    "colab": {
     "base_uri": "https://localhost:8080/"
    },
    "id": "FPWAgqcMdTkx",
    "outputId": "22130ab2-c84a-48b3-dd19-2ce235cb1bb8"
   },
   "outputs": [
    {
     "name": "stdout",
     "output_type": "stream",
     "text": [
      "[[ 0.66008467 -0.91860835 -0.91768744 -0.56565779 -0.19013084]\n",
      " [ 0.68692112  1.20042327 -0.55648032  0.51675983 -1.13325252]\n",
      " [ 1.76883638 -0.85498119  1.89998922 -1.0658905   1.50531893]\n",
      " [ 0.77388464 -1.24206763  0.75631041  1.01940576  0.89747448]\n",
      " [ 0.37852758 -1.36846366 -0.91566544 -0.47943544 -0.20226054]]\n"
     ]
    }
   ],
   "source": [
    "print(rand_mat)"
   ]
  },
  {
   "cell_type": "code",
   "execution_count": null,
   "metadata": {
    "colab": {
     "base_uri": "https://localhost:8080/"
    },
    "id": "5pBwxeo_dTky",
    "outputId": "ba0e5fe5-db2b-4f98-d6b6-125f8516c493"
   },
   "outputs": [
    {
     "name": "stdout",
     "output_type": "stream",
     "text": [
      "Values greater than 0: \n",
      "  [0.66008467 0.68692112 1.20042327 0.51675983 1.76883638 1.89998922\n",
      " 1.50531893 0.77388464 0.75631041 1.01940576 0.89747448 0.37852758]\n",
      "Values less than 0: \n",
      " [-0.91860835 -0.91768744 -0.56565779 -0.19013084 -0.55648032 -1.13325252\n",
      " -0.85498119 -1.0658905  -1.24206763 -1.36846366 -0.91566544 -0.47943544\n",
      " -0.20226054]\n"
     ]
    }
   ],
   "source": [
    "# accessing all the values of rand_mat which are greater than 0\n",
    "print('Values greater than 0: \\n ',rand_mat[rand_mat>0])\n",
    "\n",
    "# accessing all the values of rand_mat which are less than 0\n",
    "print('Values less than 0: \\n',rand_mat[rand_mat<0])"
   ]
  },
  {
   "cell_type": "markdown",
   "metadata": {
    "id": "Rbc_yo5T8mmS"
   },
   "source": [
    "**Modifying the entries of an Array**"
   ]
  },
  {
   "cell_type": "code",
   "execution_count": null,
   "metadata": {
    "colab": {
     "base_uri": "https://localhost:8080/"
    },
    "id": "2P57NUFJ8mMA",
    "outputId": "4c6f5d19-95d7-4ccc-ff28-fe76e18228d7"
   },
   "outputs": [
    {
     "name": "stdout",
     "output_type": "stream",
     "text": [
      "[-0.61610084  0.256255   -1.02474372  1.69663775  0.14830608  0.0587465\n",
      " -0.58451129  0.09827507  1.38926594  0.52114238]\n"
     ]
    }
   ],
   "source": [
    "print(rand_arr)"
   ]
  },
  {
   "cell_type": "code",
   "execution_count": null,
   "metadata": {
    "colab": {
     "base_uri": "https://localhost:8080/"
    },
    "id": "5dTfDf2d-DF7",
    "outputId": "c9f149ef-4463-401e-cb3d-fd6df3f1c404"
   },
   "outputs": [
    {
     "name": "stdout",
     "output_type": "stream",
     "text": [
      "[-0.61610084  0.256255   -1.02474372  5.          5.          0.0587465\n",
      " -0.58451129  0.09827507  1.38926594  0.52114238]\n"
     ]
    }
   ],
   "source": [
    "# let's change some values in an array!\n",
    "# changing the values of index value 3 and index value 4 to 5\n",
    "rand_arr[3:5] = 5\n",
    "print(rand_arr)"
   ]
  },
  {
   "cell_type": "code",
   "execution_count": null,
   "metadata": {
    "colab": {
     "base_uri": "https://localhost:8080/"
    },
    "id": "dC1yVJLT-H9H",
    "outputId": "cac466b1-e851-46d3-d939-e8071ad058e7"
   },
   "outputs": [
    {
     "name": "stdout",
     "output_type": "stream",
     "text": [
      "[ 2.          3.         -1.02474372  5.          5.          0.0587465\n",
      " -0.58451129  0.09827507  1.38926594  0.52114238]\n"
     ]
    }
   ],
   "source": [
    "# changing the values of index value 0 and index value 1 to 2 and 3 respectively\n",
    "rand_arr[0:2] = [2,3]\n",
    "print(rand_arr)"
   ]
  },
  {
   "cell_type": "code",
   "execution_count": null,
   "metadata": {
    "colab": {
     "base_uri": "https://localhost:8080/"
    },
    "id": "wT3ishttMugE",
    "outputId": "0201c43a-03b1-489b-ff70-dae97a8c0557"
   },
   "outputs": [
    {
     "data": {
      "text/plain": [
       "array([65.        , 65.        , -1.02474372, 65.        , 65.        ,\n",
       "       65.        , -0.58451129, 65.        , 65.        , 65.        ])"
      ]
     },
     "execution_count": 59,
     "metadata": {},
     "output_type": "execute_result"
    }
   ],
   "source": [
    "# modify entries using logical references\n",
    "rand_arr[rand_arr>0] = 65\n",
    "rand_arr"
   ]
  },
  {
   "cell_type": "markdown",
   "metadata": {
    "id": "lhoMit_Da8F4"
   },
   "source": [
    "**Modifying the entries of a Matrix**"
   ]
  },
  {
   "cell_type": "code",
   "execution_count": null,
   "metadata": {
    "colab": {
     "base_uri": "https://localhost:8080/"
    },
    "id": "fJ02uz8obsqC",
    "outputId": "235baae0-f38e-4a43-9f8e-5e422b8973b7"
   },
   "outputs": [
    {
     "name": "stdout",
     "output_type": "stream",
     "text": [
      "[[1 5 2 1 2]\n",
      " [6 1 7 1 8]\n",
      " [6 6 5 2 5]\n",
      " [4 3 7 3 1]\n",
      " [2 6 1 1 5]]\n"
     ]
    }
   ],
   "source": [
    "print(rand_mat3)"
   ]
  },
  {
   "cell_type": "code",
   "execution_count": null,
   "metadata": {
    "colab": {
     "base_uri": "https://localhost:8080/"
    },
    "id": "dVNbm4oKNtkr",
    "outputId": "40ac65ce-41bd-4bc3-bc61-0ce7abad83c1"
   },
   "outputs": [
    {
     "name": "stdout",
     "output_type": "stream",
     "text": [
      "Matrix before modification: \n",
      " [[1 5 2 1 2]\n",
      " [6 1 7 1 8]\n",
      " [6 6 5 2 5]\n",
      " [4 3 7 3 1]\n",
      " [2 6 1 1 5]]\n",
      "Matrix after modification: \n",
      " [[1 5 2 1 2]\n",
      " [6 1 7 0 0]\n",
      " [6 6 5 0 0]\n",
      " [4 3 7 3 1]\n",
      " [2 6 1 1 5]]\n"
     ]
    }
   ],
   "source": [
    "# changing the values of the 4th and 5th element of the second and third rows of the matrix to 0\n",
    "print('Matrix before modification: \\n',rand_mat3)\n",
    "rand_mat3[1:3,3:5] = 0\n",
    "print('Matrix after modification: \\n',rand_mat3)"
   ]
  },
  {
   "cell_type": "code",
   "execution_count": null,
   "metadata": {
    "colab": {
     "base_uri": "https://localhost:8080/"
    },
    "id": "uP3butowNtvp",
    "outputId": "3d35ab10-b02c-4d68-b62d-5cb6f870fc6a"
   },
   "outputs": [
    {
     "name": "stdout",
     "output_type": "stream",
     "text": [
      "[[ 0.66008467 -0.91860835 -0.91768744]\n",
      " [ 0.68692112  1.20042327 -0.55648032]]\n"
     ]
    }
   ],
   "source": [
    "# extracting the first 2 rows and first 3 columns from the matrix\n",
    "sub_mat = rand_mat[0:2,0:3]\n",
    "print(sub_mat)"
   ]
  },
  {
   "cell_type": "code",
   "execution_count": null,
   "metadata": {
    "colab": {
     "base_uri": "https://localhost:8080/"
    },
    "id": "3DgctOvENt14",
    "outputId": "a467bb0d-8290-4f93-d50c-3a23c634d70c"
   },
   "outputs": [
    {
     "name": "stdout",
     "output_type": "stream",
     "text": [
      "[[3. 3. 3.]\n",
      " [3. 3. 3.]]\n"
     ]
    }
   ],
   "source": [
    "# changing all the values of the extracted matrix to 3\n",
    "sub_mat[:] = 3\n",
    "print(sub_mat)"
   ]
  },
  {
   "cell_type": "code",
   "execution_count": null,
   "metadata": {
    "colab": {
     "base_uri": "https://localhost:8080/"
    },
    "id": "hskgV9vG9lxx",
    "outputId": "ec90a56c-2f27-485e-e7b4-ef3a82b942a2"
   },
   "outputs": [
    {
     "data": {
      "text/plain": [
       "array([[ 3.        ,  3.        ,  3.        , -0.56565779, -0.19013084],\n",
       "       [ 3.        ,  3.        ,  3.        ,  0.51675983, -1.13325252],\n",
       "       [ 1.76883638, -0.85498119,  1.89998922, -1.0658905 ,  1.50531893],\n",
       "       [ 0.77388464, -1.24206763,  0.75631041,  1.01940576,  0.89747448],\n",
       "       [ 0.37852758, -1.36846366, -0.91566544, -0.47943544, -0.20226054]])"
      ]
     },
     "execution_count": 64,
     "metadata": {},
     "output_type": "execute_result"
    }
   ],
   "source": [
    "# what happened to rand_mat when we change sub_mat?\n",
    "rand_mat"
   ]
  },
  {
   "cell_type": "code",
   "execution_count": null,
   "metadata": {
    "colab": {
     "base_uri": "https://localhost:8080/"
    },
    "id": "PryCb2h29sHx",
    "outputId": "e1fdf33d-7740-4cf8-e99b-9d985643ef81"
   },
   "outputs": [
    {
     "name": "stdout",
     "output_type": "stream",
     "text": [
      "[[ 2.0112384   0.49785818 -1.25183808  1.68261636  0.51405209]\n",
      " [ 0.19861572 -1.02405923  1.47588997  0.9095827   1.44913937]\n",
      " [ 1.17797906  2.2230628   1.0897073  -0.61658736  1.30247375]\n",
      " [-0.72899737  0.35296055 -1.28267073 -0.12390565  0.74816716]\n",
      " [ 1.54172729  0.23114564 -0.06203034 -0.00718632 -0.32182532]]\n",
      "[[3. 3. 3.]\n",
      " [3. 3. 3.]]\n",
      "[[ 2.0112384   0.49785818 -1.25183808  1.68261636  0.51405209]\n",
      " [ 0.19861572 -1.02405923  1.47588997  0.9095827   1.44913937]\n",
      " [ 1.17797906  2.2230628   1.0897073  -0.61658736  1.30247375]\n",
      " [-0.72899737  0.35296055 -1.28267073 -0.12390565  0.74816716]\n",
      " [ 1.54172729  0.23114564 -0.06203034 -0.00718632 -0.32182532]]\n"
     ]
    }
   ],
   "source": [
    "# to prevent this behavior we need to use the .copy() method when we assign sub_mat\n",
    "# this behavior is the source of MANY errors for early python users!!!\n",
    "\n",
    "rand_mat = np.random.randn(5,5)\n",
    "print(rand_mat)\n",
    "sub_mat = rand_mat[0:2,0:3].copy()\n",
    "sub_mat[:] = 3\n",
    "print(sub_mat)\n",
    "print(rand_mat)"
   ]
  },
  {
   "cell_type": "markdown",
   "metadata": {
    "id": "Uhy7xJlW0aDT"
   },
   "source": [
    "### 2.4 Saving and Loading a NumPy array"
   ]
  },
  {
   "cell_type": "markdown",
   "metadata": {
    "id": "qlyONcw5FeSh"
   },
   "source": [
    "**Let's save some NumPy objects on the disk for use later!**"
   ]
  },
  {
   "cell_type": "code",
   "execution_count": null,
   "metadata": {
    "colab": {
     "base_uri": "https://localhost:8080/"
    },
    "id": "gikqL10PzrC1",
    "outputId": "a57bedae-1916-4471-9654-ddc1561896d9"
   },
   "outputs": [
    {
     "name": "stdout",
     "output_type": "stream",
     "text": [
      "Mounted at /content/drive\n"
     ]
    }
   ],
   "source": [
    "from google.colab import drive\n",
    "drive.mount('/content/drive')"
   ]
  },
  {
   "cell_type": "code",
   "execution_count": null,
   "metadata": {
    "colab": {
     "base_uri": "https://localhost:8080/"
    },
    "id": "G_w4dYUtFzZO",
    "outputId": "b964d947-2c52-4ea4-9926-c3aea1d4d050"
   },
   "outputs": [
    {
     "name": "stdout",
     "output_type": "stream",
     "text": [
      "[[7 2 9 7 2]\n",
      " [6 6 5 7 2]]\n",
      "\n",
      "[[10 16 12 17 18]\n",
      " [19 12 11 13 17]]\n"
     ]
    }
   ],
   "source": [
    "# creating a random matrices\n",
    "randint_matrix1 = np.random.randint(1,10,10).reshape(2,5)\n",
    "print(randint_matrix1)\n",
    "print('')\n",
    "randint_matrix2 = np.random.randint(10,20,10).reshape(2,5)\n",
    "print(randint_matrix2)"
   ]
  },
  {
   "cell_type": "markdown",
   "metadata": {
    "id": "rysUk_pSFU1O"
   },
   "source": [
    "**Using np.save() function**"
   ]
  },
  {
   "cell_type": "code",
   "execution_count": null,
   "metadata": {
    "id": "k9TyLFJ-tkU2"
   },
   "outputs": [],
   "source": [
    "np.save('/content/drive/MyDrive/Python Course/saved_file_name',randint_matrix1)"
   ]
  },
  {
   "cell_type": "markdown",
   "metadata": {
    "id": "VMfbQlc2FYNl"
   },
   "source": [
    "**Using np.savez() function**"
   ]
  },
  {
   "cell_type": "code",
   "execution_count": null,
   "metadata": {
    "id": "dhtVPefIRfGP"
   },
   "outputs": [],
   "source": [
    "np.savez('/content/drive/MyDrive/Python Course/multiple_files',randint_matrix1=randint_matrix1,randint_matrix2=randint_matrix2)"
   ]
  },
  {
   "cell_type": "markdown",
   "metadata": {
    "id": "hDbZNqdLDj35"
   },
   "source": [
    "* The files will be saved in the directory where the Jupyter Notebook is located.\n",
    "* With np.save() function, we can save an array/matrix to a NumPy .npy format.\n",
    "* np.savez() function has an advantage over np.save() function because with np.savez(), we can store several arrays/matrices into a single file in uncompressed .npz format."
   ]
  },
  {
   "cell_type": "code",
   "execution_count": null,
   "metadata": {
    "id": "h7mYd86cZeTq"
   },
   "outputs": [],
   "source": [
    "# now let's load it\n",
    "loaded_arr = np.load('/content/drive/MyDrive/Python Course/saved_file_name.npy')\n",
    "loaded_multi = np.load('/content/drive/MyDrive/Python Course/multiple_files.npz')\n",
    "\n",
    "print(loaded_arr)\n",
    "print('')\n",
    "print(loaded_multi)"
   ]
  },
  {
   "cell_type": "markdown",
   "metadata": {
    "id": "21XxghDDG69T"
   },
   "source": [
    "* We see that .npy file has been loaded but the .npz file is returning a memory location.\n",
    "* Let's see how to load the values stored in .npz file."
   ]
  },
  {
   "cell_type": "code",
   "execution_count": null,
   "metadata": {
    "id": "VezEM4uPZeZk"
   },
   "outputs": [],
   "source": [
    "print('1st Matrix: \\n',loaded_multi['randint_matrix1'])\n",
    "print('2nd Matrix: \\n',loaded_multi['randint_matrix2'])\n",
    "\n",
    "new_matrix  = loaded_multi['randint_matrix1']\n",
    "print('New Matrix: \\n',new_matrix)"
   ]
  },
  {
   "cell_type": "code",
   "execution_count": null,
   "metadata": {
    "id": "AyyZjATxZefd"
   },
   "outputs": [],
   "source": [
    "# we can also save/load text files...but only single variables\n",
    "np.savetxt('/content/drive/MyDrive/Python Course/text_file_name.txt',randint_matrix1,delimiter=',')\n",
    "rand_mat_txt = np.loadtxt('/content/drive/MyDrive/Python Course/text_file_name.txt',delimiter=',')\n",
    "print(randint_matrix1)\n",
    "print('')\n",
    "print(rand_mat_txt)"
   ]
  },
  {
   "cell_type": "markdown",
   "metadata": {
    "id": "xNRoQ4QEPUJu"
   },
   "source": []
  },
  {
   "cell_type": "markdown",
   "metadata": {
    "id": "g_WPYq3xPVGn"
   },
   "source": [
    "# Numpy & Pandas Quiz"
   ]
  },
  {
   "cell_type": "code",
   "execution_count": 7,
   "metadata": {
    "colab": {
     "base_uri": "https://localhost:8080/"
    },
    "id": "WiTOg-jNzE82",
    "outputId": "7d9133f3-3774-46b9-a2f2-725908acdf3a"
   },
   "outputs": [
    {
     "data": {
      "text/plain": [
       "array([  1, 100,   4,   0])"
      ]
     },
     "execution_count": 7,
     "metadata": {},
     "output_type": "execute_result"
    }
   ],
   "source": [
    "\n",
    "a = np.array([1, 10, 2, 0])\n",
    "np.power(a, 2)"
   ]
  },
  {
   "cell_type": "code",
   "execution_count": 8,
   "metadata": {
    "colab": {
     "base_uri": "https://localhost:8080/",
     "height": 35
    },
    "id": "6a2WYO5UQID5",
    "outputId": "b2ada411-bea2-425e-cde9-992c70305cfc"
   },
   "outputs": [
    {
     "data": {
      "application/vnd.google.colaboratory.intrinsic+json": {
       "type": "string"
      },
      "text/plain": [
       "'l'"
      ]
     },
     "execution_count": 8,
     "metadata": {},
     "output_type": "execute_result"
    }
   ],
   "source": [
    "a = np.array([['m', 'l'],['n', 'o']])\n",
    "a[0,1]"
   ]
  },
  {
   "cell_type": "code",
   "execution_count": 12,
   "metadata": {
    "colab": {
     "base_uri": "https://localhost:8080/"
    },
    "id": "xoq8hOWkQOt8",
    "outputId": "8fdd2bdc-2e72-4667-e0ea-441a33c952ce"
   },
   "outputs": [
    {
     "data": {
      "text/plain": [
       "[array([0, 1, 2, 3, 4]), array([5, 6, 7, 8, 9])]"
      ]
     },
     "execution_count": 12,
     "metadata": {},
     "output_type": "execute_result"
    }
   ],
   "source": [
    "array = np.arange(10)\n",
    "np.hsplit(array, 2)"
   ]
  },
  {
   "cell_type": "code",
   "execution_count": 13,
   "metadata": {
    "colab": {
     "base_uri": "https://localhost:8080/",
     "height": 214
    },
    "id": "09lWpzphQbt_",
    "outputId": "69e45778-b6c8-4f91-e8ac-a6232d84587e"
   },
   "outputs": [
    {
     "ename": "ValueError",
     "evalue": "ignored",
     "output_type": "error",
     "traceback": [
      "\u001b[0;31m---------------------------------------------------------------------------\u001b[0m",
      "\u001b[0;31mValueError\u001b[0m                                Traceback (most recent call last)",
      "\u001b[0;32m<ipython-input-13-af8a17fdc455>\u001b[0m in \u001b[0;36m<cell line: 3>\u001b[0;34m()\u001b[0m\n\u001b[1;32m      1\u001b[0m \u001b[0marray1\u001b[0m \u001b[0;34m=\u001b[0m \u001b[0mnp\u001b[0m\u001b[0;34m.\u001b[0m\u001b[0marray\u001b[0m\u001b[0;34m(\u001b[0m\u001b[0;34m[\u001b[0m\u001b[0;36m1\u001b[0m\u001b[0;34m,\u001b[0m \u001b[0;36m0\u001b[0m\u001b[0;34m,\u001b[0m \u001b[0;36m0\u001b[0m\u001b[0;34m,\u001b[0m \u001b[0;36m1\u001b[0m\u001b[0;34m,\u001b[0m \u001b[0;36m0\u001b[0m\u001b[0;34m]\u001b[0m\u001b[0;34m)\u001b[0m\u001b[0;34m\u001b[0m\u001b[0;34m\u001b[0m\u001b[0m\n\u001b[1;32m      2\u001b[0m \u001b[0marray2\u001b[0m \u001b[0;34m=\u001b[0m \u001b[0mnp\u001b[0m\u001b[0;34m.\u001b[0m\u001b[0marange\u001b[0m\u001b[0;34m(\u001b[0m\u001b[0;36m6\u001b[0m\u001b[0;34m)\u001b[0m\u001b[0;34m\u001b[0m\u001b[0;34m\u001b[0m\u001b[0m\n\u001b[0;32m----> 3\u001b[0;31m \u001b[0marray1\u001b[0m \u001b[0;34m+\u001b[0m \u001b[0marray2\u001b[0m\u001b[0;34m\u001b[0m\u001b[0;34m\u001b[0m\u001b[0m\n\u001b[0m",
      "\u001b[0;31mValueError\u001b[0m: operands could not be broadcast together with shapes (5,) (6,) "
     ]
    }
   ],
   "source": [
    "array1 = np.array([1, 0, 0, 1, 0])\n",
    "array2 = np.arange(6)\n",
    "array1 + array2"
   ]
  },
  {
   "cell_type": "code",
   "execution_count": 16,
   "metadata": {
    "colab": {
     "base_uri": "https://localhost:8080/"
    },
    "id": "jSqkoeB-Qnd3",
    "outputId": "8caaf513-5f98-4707-e761-663a83bab7be"
   },
   "outputs": [
    {
     "name": "stdout",
     "output_type": "stream",
     "text": [
      "<class 'pandas.core.frame.DataFrame'>\n",
      "RangeIndex: 3932 entries, 0 to 3931\n",
      "Data columns (total 7 columns):\n",
      " #   Column      Non-Null Count  Dtype \n",
      "---  ------      --------------  ----- \n",
      " 0   Scorecard   3932 non-null   object\n",
      " 1   Team 1      3932 non-null   object\n",
      " 2   Team 2      3932 non-null   object\n",
      " 3   Winner      3932 non-null   object\n",
      " 4   Margin      3753 non-null   object\n",
      " 5   Ground      3932 non-null   object\n",
      " 6   Match Date  3932 non-null   object\n",
      "dtypes: object(7)\n",
      "memory usage: 215.2+ KB\n"
     ]
    }
   ],
   "source": [
    "df = pd.read_csv(root_dir + project_folder +'Dateset_ODI.csv')\n",
    "df.info()"
   ]
  },
  {
   "cell_type": "code",
   "execution_count": 36,
   "metadata": {
    "colab": {
     "base_uri": "https://localhost:8080/"
    },
    "id": "EQco0jisQ4vG",
    "outputId": "f5efe5d0-1a6a-4a5f-8d90-6642f1d2ee47"
   },
   "outputs": [
    {
     "data": {
      "text/plain": [
       "Scorecard       0\n",
       "Team 1          0\n",
       "Team 2          0\n",
       "Winner          0\n",
       "Margin        179\n",
       "Ground          0\n",
       "Match Date      0\n",
       "dtype: int64"
      ]
     },
     "execution_count": 36,
     "metadata": {},
     "output_type": "execute_result"
    }
   ],
   "source": [
    "#df.shape\n",
    "#df.describe().T\n",
    "#df.describe(exclude = 'number').T\n",
    "df.isna().sum()\n"
   ]
  },
  {
   "cell_type": "code",
   "execution_count": 25,
   "metadata": {
    "colab": {
     "base_uri": "https://localhost:8080/",
     "height": 206
    },
    "id": "jcFqqEq8RUft",
    "outputId": "4c79b602-8a86-410b-8b25-b4353b3a675e"
   },
   "outputs": [
    {
     "data": {
      "text/html": [
       "\n",
       "  <div id=\"df-35dcdb97-dd21-4478-b1ec-c10e0e9bad24\" class=\"colab-df-container\">\n",
       "    <div>\n",
       "<style scoped>\n",
       "    .dataframe tbody tr th:only-of-type {\n",
       "        vertical-align: middle;\n",
       "    }\n",
       "\n",
       "    .dataframe tbody tr th {\n",
       "        vertical-align: top;\n",
       "    }\n",
       "\n",
       "    .dataframe thead th {\n",
       "        text-align: right;\n",
       "    }\n",
       "</style>\n",
       "<table border=\"1\" class=\"dataframe\">\n",
       "  <thead>\n",
       "    <tr style=\"text-align: right;\">\n",
       "      <th></th>\n",
       "      <th>Scorecard</th>\n",
       "      <th>Team 1</th>\n",
       "      <th>Team 2</th>\n",
       "      <th>Winner</th>\n",
       "      <th>Margin</th>\n",
       "      <th>Ground</th>\n",
       "      <th>Match Date</th>\n",
       "    </tr>\n",
       "  </thead>\n",
       "  <tbody>\n",
       "    <tr>\n",
       "      <th>0</th>\n",
       "      <td>ODI # 1</td>\n",
       "      <td>Australia</td>\n",
       "      <td>England</td>\n",
       "      <td>Australia</td>\n",
       "      <td>5 wickets</td>\n",
       "      <td>Melbourne</td>\n",
       "      <td>Jan 5, 1971</td>\n",
       "    </tr>\n",
       "    <tr>\n",
       "      <th>1</th>\n",
       "      <td>ODI # 2</td>\n",
       "      <td>England</td>\n",
       "      <td>Australia</td>\n",
       "      <td>England</td>\n",
       "      <td>6 wickets</td>\n",
       "      <td>Manchester</td>\n",
       "      <td>Aug 24, 1972</td>\n",
       "    </tr>\n",
       "    <tr>\n",
       "      <th>2</th>\n",
       "      <td>ODI # 3</td>\n",
       "      <td>England</td>\n",
       "      <td>Australia</td>\n",
       "      <td>Australia</td>\n",
       "      <td>5 wickets</td>\n",
       "      <td>Lord's</td>\n",
       "      <td>Aug 26, 1972</td>\n",
       "    </tr>\n",
       "    <tr>\n",
       "      <th>3</th>\n",
       "      <td>ODI # 4</td>\n",
       "      <td>England</td>\n",
       "      <td>Australia</td>\n",
       "      <td>England</td>\n",
       "      <td>2 wickets</td>\n",
       "      <td>Birmingham</td>\n",
       "      <td>Aug 28, 1972</td>\n",
       "    </tr>\n",
       "    <tr>\n",
       "      <th>4</th>\n",
       "      <td>ODI # 5</td>\n",
       "      <td>New Zealand</td>\n",
       "      <td>Pakistan</td>\n",
       "      <td>New Zealand</td>\n",
       "      <td>22 runs</td>\n",
       "      <td>Christchurch</td>\n",
       "      <td>Feb 11, 1973</td>\n",
       "    </tr>\n",
       "  </tbody>\n",
       "</table>\n",
       "</div>\n",
       "    <div class=\"colab-df-buttons\">\n",
       "\n",
       "  <div class=\"colab-df-container\">\n",
       "    <button class=\"colab-df-convert\" onclick=\"convertToInteractive('df-35dcdb97-dd21-4478-b1ec-c10e0e9bad24')\"\n",
       "            title=\"Convert this dataframe to an interactive table.\"\n",
       "            style=\"display:none;\">\n",
       "\n",
       "  <svg xmlns=\"http://www.w3.org/2000/svg\" height=\"24px\" viewBox=\"0 -960 960 960\">\n",
       "    <path d=\"M120-120v-720h720v720H120Zm60-500h600v-160H180v160Zm220 220h160v-160H400v160Zm0 220h160v-160H400v160ZM180-400h160v-160H180v160Zm440 0h160v-160H620v160ZM180-180h160v-160H180v160Zm440 0h160v-160H620v160Z\"/>\n",
       "  </svg>\n",
       "    </button>\n",
       "\n",
       "  <style>\n",
       "    .colab-df-container {\n",
       "      display:flex;\n",
       "      gap: 12px;\n",
       "    }\n",
       "\n",
       "    .colab-df-convert {\n",
       "      background-color: #E8F0FE;\n",
       "      border: none;\n",
       "      border-radius: 50%;\n",
       "      cursor: pointer;\n",
       "      display: none;\n",
       "      fill: #1967D2;\n",
       "      height: 32px;\n",
       "      padding: 0 0 0 0;\n",
       "      width: 32px;\n",
       "    }\n",
       "\n",
       "    .colab-df-convert:hover {\n",
       "      background-color: #E2EBFA;\n",
       "      box-shadow: 0px 1px 2px rgba(60, 64, 67, 0.3), 0px 1px 3px 1px rgba(60, 64, 67, 0.15);\n",
       "      fill: #174EA6;\n",
       "    }\n",
       "\n",
       "    .colab-df-buttons div {\n",
       "      margin-bottom: 4px;\n",
       "    }\n",
       "\n",
       "    [theme=dark] .colab-df-convert {\n",
       "      background-color: #3B4455;\n",
       "      fill: #D2E3FC;\n",
       "    }\n",
       "\n",
       "    [theme=dark] .colab-df-convert:hover {\n",
       "      background-color: #434B5C;\n",
       "      box-shadow: 0px 1px 3px 1px rgba(0, 0, 0, 0.15);\n",
       "      filter: drop-shadow(0px 1px 2px rgba(0, 0, 0, 0.3));\n",
       "      fill: #FFFFFF;\n",
       "    }\n",
       "  </style>\n",
       "\n",
       "    <script>\n",
       "      const buttonEl =\n",
       "        document.querySelector('#df-35dcdb97-dd21-4478-b1ec-c10e0e9bad24 button.colab-df-convert');\n",
       "      buttonEl.style.display =\n",
       "        google.colab.kernel.accessAllowed ? 'block' : 'none';\n",
       "\n",
       "      async function convertToInteractive(key) {\n",
       "        const element = document.querySelector('#df-35dcdb97-dd21-4478-b1ec-c10e0e9bad24');\n",
       "        const dataTable =\n",
       "          await google.colab.kernel.invokeFunction('convertToInteractive',\n",
       "                                                    [key], {});\n",
       "        if (!dataTable) return;\n",
       "\n",
       "        const docLinkHtml = 'Like what you see? Visit the ' +\n",
       "          '<a target=\"_blank\" href=https://colab.research.google.com/notebooks/data_table.ipynb>data table notebook</a>'\n",
       "          + ' to learn more about interactive tables.';\n",
       "        element.innerHTML = '';\n",
       "        dataTable['output_type'] = 'display_data';\n",
       "        await google.colab.output.renderOutput(dataTable, element);\n",
       "        const docLink = document.createElement('div');\n",
       "        docLink.innerHTML = docLinkHtml;\n",
       "        element.appendChild(docLink);\n",
       "      }\n",
       "    </script>\n",
       "  </div>\n",
       "\n",
       "\n",
       "<div id=\"df-cbae326c-1c4a-484d-a2d4-1c02a23a029e\">\n",
       "  <button class=\"colab-df-quickchart\" onclick=\"quickchart('df-cbae326c-1c4a-484d-a2d4-1c02a23a029e')\"\n",
       "            title=\"Suggest charts\"\n",
       "            style=\"display:none;\">\n",
       "\n",
       "<svg xmlns=\"http://www.w3.org/2000/svg\" height=\"24px\"viewBox=\"0 0 24 24\"\n",
       "     width=\"24px\">\n",
       "    <g>\n",
       "        <path d=\"M19 3H5c-1.1 0-2 .9-2 2v14c0 1.1.9 2 2 2h14c1.1 0 2-.9 2-2V5c0-1.1-.9-2-2-2zM9 17H7v-7h2v7zm4 0h-2V7h2v10zm4 0h-2v-4h2v4z\"/>\n",
       "    </g>\n",
       "</svg>\n",
       "  </button>\n",
       "\n",
       "<style>\n",
       "  .colab-df-quickchart {\n",
       "      --bg-color: #E8F0FE;\n",
       "      --fill-color: #1967D2;\n",
       "      --hover-bg-color: #E2EBFA;\n",
       "      --hover-fill-color: #174EA6;\n",
       "      --disabled-fill-color: #AAA;\n",
       "      --disabled-bg-color: #DDD;\n",
       "  }\n",
       "\n",
       "  [theme=dark] .colab-df-quickchart {\n",
       "      --bg-color: #3B4455;\n",
       "      --fill-color: #D2E3FC;\n",
       "      --hover-bg-color: #434B5C;\n",
       "      --hover-fill-color: #FFFFFF;\n",
       "      --disabled-bg-color: #3B4455;\n",
       "      --disabled-fill-color: #666;\n",
       "  }\n",
       "\n",
       "  .colab-df-quickchart {\n",
       "    background-color: var(--bg-color);\n",
       "    border: none;\n",
       "    border-radius: 50%;\n",
       "    cursor: pointer;\n",
       "    display: none;\n",
       "    fill: var(--fill-color);\n",
       "    height: 32px;\n",
       "    padding: 0;\n",
       "    width: 32px;\n",
       "  }\n",
       "\n",
       "  .colab-df-quickchart:hover {\n",
       "    background-color: var(--hover-bg-color);\n",
       "    box-shadow: 0 1px 2px rgba(60, 64, 67, 0.3), 0 1px 3px 1px rgba(60, 64, 67, 0.15);\n",
       "    fill: var(--button-hover-fill-color);\n",
       "  }\n",
       "\n",
       "  .colab-df-quickchart-complete:disabled,\n",
       "  .colab-df-quickchart-complete:disabled:hover {\n",
       "    background-color: var(--disabled-bg-color);\n",
       "    fill: var(--disabled-fill-color);\n",
       "    box-shadow: none;\n",
       "  }\n",
       "\n",
       "  .colab-df-spinner {\n",
       "    border: 2px solid var(--fill-color);\n",
       "    border-color: transparent;\n",
       "    border-bottom-color: var(--fill-color);\n",
       "    animation:\n",
       "      spin 1s steps(1) infinite;\n",
       "  }\n",
       "\n",
       "  @keyframes spin {\n",
       "    0% {\n",
       "      border-color: transparent;\n",
       "      border-bottom-color: var(--fill-color);\n",
       "      border-left-color: var(--fill-color);\n",
       "    }\n",
       "    20% {\n",
       "      border-color: transparent;\n",
       "      border-left-color: var(--fill-color);\n",
       "      border-top-color: var(--fill-color);\n",
       "    }\n",
       "    30% {\n",
       "      border-color: transparent;\n",
       "      border-left-color: var(--fill-color);\n",
       "      border-top-color: var(--fill-color);\n",
       "      border-right-color: var(--fill-color);\n",
       "    }\n",
       "    40% {\n",
       "      border-color: transparent;\n",
       "      border-right-color: var(--fill-color);\n",
       "      border-top-color: var(--fill-color);\n",
       "    }\n",
       "    60% {\n",
       "      border-color: transparent;\n",
       "      border-right-color: var(--fill-color);\n",
       "    }\n",
       "    80% {\n",
       "      border-color: transparent;\n",
       "      border-right-color: var(--fill-color);\n",
       "      border-bottom-color: var(--fill-color);\n",
       "    }\n",
       "    90% {\n",
       "      border-color: transparent;\n",
       "      border-bottom-color: var(--fill-color);\n",
       "    }\n",
       "  }\n",
       "</style>\n",
       "\n",
       "  <script>\n",
       "    async function quickchart(key) {\n",
       "      const quickchartButtonEl =\n",
       "        document.querySelector('#' + key + ' button');\n",
       "      quickchartButtonEl.disabled = true;  // To prevent multiple clicks.\n",
       "      quickchartButtonEl.classList.add('colab-df-spinner');\n",
       "      try {\n",
       "        const charts = await google.colab.kernel.invokeFunction(\n",
       "            'suggestCharts', [key], {});\n",
       "      } catch (error) {\n",
       "        console.error('Error during call to suggestCharts:', error);\n",
       "      }\n",
       "      quickchartButtonEl.classList.remove('colab-df-spinner');\n",
       "      quickchartButtonEl.classList.add('colab-df-quickchart-complete');\n",
       "    }\n",
       "    (() => {\n",
       "      let quickchartButtonEl =\n",
       "        document.querySelector('#df-cbae326c-1c4a-484d-a2d4-1c02a23a029e button');\n",
       "      quickchartButtonEl.style.display =\n",
       "        google.colab.kernel.accessAllowed ? 'block' : 'none';\n",
       "    })();\n",
       "  </script>\n",
       "</div>\n",
       "    </div>\n",
       "  </div>\n"
      ],
      "text/plain": [
       "  Scorecard       Team 1     Team 2       Winner     Margin        Ground  \\\n",
       "0   ODI # 1    Australia    England    Australia  5 wickets     Melbourne   \n",
       "1   ODI # 2      England  Australia      England  6 wickets    Manchester   \n",
       "2   ODI # 3      England  Australia    Australia  5 wickets        Lord's   \n",
       "3   ODI # 4      England  Australia      England  2 wickets    Birmingham   \n",
       "4   ODI # 5  New Zealand   Pakistan  New Zealand    22 runs  Christchurch   \n",
       "\n",
       "     Match Date  \n",
       "0   Jan 5, 1971  \n",
       "1  Aug 24, 1972  \n",
       "2  Aug 26, 1972  \n",
       "3  Aug 28, 1972  \n",
       "4  Feb 11, 1973  "
      ]
     },
     "execution_count": 25,
     "metadata": {},
     "output_type": "execute_result"
    }
   ],
   "source": [
    "df.head()"
   ]
  },
  {
   "cell_type": "code",
   "execution_count": 29,
   "metadata": {
    "colab": {
     "base_uri": "https://localhost:8080/",
     "height": 35
    },
    "id": "Gfy0OeFVRYQY",
    "outputId": "835aea21-d5b8-4d2e-84f7-6f3b9edf45b2"
   },
   "outputs": [
    {
     "data": {
      "application/vnd.google.colaboratory.intrinsic+json": {
       "type": "string"
      },
      "text/plain": [
       "'Australia'"
      ]
     },
     "execution_count": 29,
     "metadata": {},
     "output_type": "execute_result"
    }
   ],
   "source": [
    "#df['Scorecard'] == 'ODI # 1'\n",
    "df.loc[df['Scorecard'] == 'ODI # 1', 'Winner'].iloc[0]"
   ]
  },
  {
   "cell_type": "code",
   "execution_count": 41,
   "metadata": {
    "colab": {
     "base_uri": "https://localhost:8080/"
    },
    "id": "OZB1DesSSl2Z",
    "outputId": "4e04e1f9-c2c4-48c7-a60a-5467603bcd37"
   },
   "outputs": [
    {
     "data": {
      "text/plain": [
       "1"
      ]
     },
     "execution_count": 41,
     "metadata": {},
     "output_type": "execute_result"
    }
   ],
   "source": [
    "#sum(df['Ground'] == 'Devonport')\n",
    "Ground_freq=df['Ground'].value_counts()\n",
    "#type(Ground_freq)\n",
    "Ground_freq['Devonport']\n"
   ]
  },
  {
   "cell_type": "code",
   "execution_count": 43,
   "metadata": {
    "colab": {
     "base_uri": "https://localhost:8080/"
    },
    "id": "C6NjP6SGT9mv",
    "outputId": "0362bda3-b3ac-484d-f798-cb573fe2d048"
   },
   "outputs": [
    {
     "data": {
      "text/plain": [
       "555"
      ]
     },
     "execution_count": 43,
     "metadata": {},
     "output_type": "execute_result"
    }
   ],
   "source": [
    "Winner_freq=df['Winner'].value_counts()\n",
    "Winner_freq['Australia']"
   ]
  },
  {
   "cell_type": "code",
   "execution_count": 44,
   "metadata": {
    "colab": {
     "base_uri": "https://localhost:8080/"
    },
    "id": "jkBwEiM-UO3u",
    "outputId": "c9413fc7-fa4b-4645-89b2-0d1bab6db0c7"
   },
   "outputs": [
    {
     "data": {
      "text/plain": [
       "Australia       555\n",
       "India           476\n",
       "Pakistan        469\n",
       "West Indies     380\n",
       "Sri Lanka       372\n",
       "South Africa    361\n",
       "England         343\n",
       "New Zealand     324\n",
       "no result       140\n",
       "Zimbabwe        129\n",
       "Bangladesh      105\n",
       "Ireland          51\n",
       "Afghanistan      42\n",
       "Kenya            42\n",
       "tied             34\n",
       "Scotland         31\n",
       "Netherlands      28\n",
       "Canada           17\n",
       "U.A.E.            9\n",
       "Bermuda           7\n",
       "Hong Kong         6\n",
       "P.N.G.            5\n",
       "Asia XI           4\n",
       "Africa XI         1\n",
       "ICC World XI      1\n",
       "Name: Winner, dtype: int64"
      ]
     },
     "execution_count": 44,
     "metadata": {},
     "output_type": "execute_result"
    }
   ],
   "source": [
    "Winner_freq"
   ]
  }
 ],
 "metadata": {
  "colab": {
   "provenance": []
  },
  "kernelspec": {
   "display_name": "Python 3 (ipykernel)",
   "language": "python",
   "name": "python3"
  },
  "language_info": {
   "codemirror_mode": {
    "name": "ipython",
    "version": 3
   },
   "file_extension": ".py",
   "mimetype": "text/x-python",
   "name": "python",
   "nbconvert_exporter": "python",
   "pygments_lexer": "ipython3",
   "version": "3.11.5"
  }
 },
 "nbformat": 4,
 "nbformat_minor": 1
}
